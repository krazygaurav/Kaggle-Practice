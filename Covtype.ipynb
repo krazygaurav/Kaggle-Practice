{
 "cells": [
  {
   "cell_type": "code",
   "execution_count": 1,
   "metadata": {},
   "outputs": [],
   "source": [
    "import numpy as np\n",
    "import sklearn.linear_model\n",
    "import sklearn.metrics\n",
    "import pandas as pd"
   ]
  },
  {
   "cell_type": "code",
   "execution_count": 2,
   "metadata": {},
   "outputs": [
    {
     "data": {
      "text/html": [
       "<div>\n",
       "<style scoped>\n",
       "    .dataframe tbody tr th:only-of-type {\n",
       "        vertical-align: middle;\n",
       "    }\n",
       "\n",
       "    .dataframe tbody tr th {\n",
       "        vertical-align: top;\n",
       "    }\n",
       "\n",
       "    .dataframe thead th {\n",
       "        text-align: right;\n",
       "    }\n",
       "</style>\n",
       "<table border=\"1\" class=\"dataframe\">\n",
       "  <thead>\n",
       "    <tr style=\"text-align: right;\">\n",
       "      <th></th>\n",
       "      <th>Elevation</th>\n",
       "      <th>Aspect</th>\n",
       "      <th>Slope</th>\n",
       "      <th>Horizontal_Distance_To_Hydrology</th>\n",
       "      <th>Vertical_Distance_To_Hydrology</th>\n",
       "      <th>Horizontal_Distance_To_Roadways</th>\n",
       "      <th>Hillshade_9am</th>\n",
       "      <th>Hillshade_Noon</th>\n",
       "      <th>Hillshade_3pm</th>\n",
       "      <th>Horizontal_Distance_To_Fire_Points</th>\n",
       "      <th>...</th>\n",
       "      <th>Soil_Type32</th>\n",
       "      <th>Soil_Type33</th>\n",
       "      <th>Soil_Type34</th>\n",
       "      <th>Soil_Type35</th>\n",
       "      <th>Soil_Type36</th>\n",
       "      <th>Soil_Type37</th>\n",
       "      <th>Soil_Type38</th>\n",
       "      <th>Soil_Type39</th>\n",
       "      <th>Soil_Type40</th>\n",
       "      <th>class</th>\n",
       "    </tr>\n",
       "  </thead>\n",
       "  <tbody>\n",
       "    <tr>\n",
       "      <th>0</th>\n",
       "      <td>0.368684</td>\n",
       "      <td>0.141667</td>\n",
       "      <td>0.045455</td>\n",
       "      <td>0.184681</td>\n",
       "      <td>0.223514</td>\n",
       "      <td>0.071659</td>\n",
       "      <td>0.870079</td>\n",
       "      <td>0.913386</td>\n",
       "      <td>0.582677</td>\n",
       "      <td>0.875366</td>\n",
       "      <td>...</td>\n",
       "      <td>0</td>\n",
       "      <td>0</td>\n",
       "      <td>0</td>\n",
       "      <td>0</td>\n",
       "      <td>0</td>\n",
       "      <td>0</td>\n",
       "      <td>0</td>\n",
       "      <td>0</td>\n",
       "      <td>0</td>\n",
       "      <td>5</td>\n",
       "    </tr>\n",
       "    <tr>\n",
       "      <th>1</th>\n",
       "      <td>0.365683</td>\n",
       "      <td>0.155556</td>\n",
       "      <td>0.030303</td>\n",
       "      <td>0.151754</td>\n",
       "      <td>0.215762</td>\n",
       "      <td>0.054798</td>\n",
       "      <td>0.866142</td>\n",
       "      <td>0.925197</td>\n",
       "      <td>0.594488</td>\n",
       "      <td>0.867838</td>\n",
       "      <td>...</td>\n",
       "      <td>0</td>\n",
       "      <td>0</td>\n",
       "      <td>0</td>\n",
       "      <td>0</td>\n",
       "      <td>0</td>\n",
       "      <td>0</td>\n",
       "      <td>0</td>\n",
       "      <td>0</td>\n",
       "      <td>0</td>\n",
       "      <td>5</td>\n",
       "    </tr>\n",
       "    <tr>\n",
       "      <th>2</th>\n",
       "      <td>0.472736</td>\n",
       "      <td>0.386111</td>\n",
       "      <td>0.136364</td>\n",
       "      <td>0.191840</td>\n",
       "      <td>0.307494</td>\n",
       "      <td>0.446817</td>\n",
       "      <td>0.921260</td>\n",
       "      <td>0.937008</td>\n",
       "      <td>0.531496</td>\n",
       "      <td>0.853339</td>\n",
       "      <td>...</td>\n",
       "      <td>0</td>\n",
       "      <td>0</td>\n",
       "      <td>0</td>\n",
       "      <td>0</td>\n",
       "      <td>0</td>\n",
       "      <td>0</td>\n",
       "      <td>0</td>\n",
       "      <td>0</td>\n",
       "      <td>0</td>\n",
       "      <td>2</td>\n",
       "    </tr>\n",
       "    <tr>\n",
       "      <th>3</th>\n",
       "      <td>0.463232</td>\n",
       "      <td>0.430556</td>\n",
       "      <td>0.272727</td>\n",
       "      <td>0.173228</td>\n",
       "      <td>0.375969</td>\n",
       "      <td>0.434172</td>\n",
       "      <td>0.937008</td>\n",
       "      <td>0.937008</td>\n",
       "      <td>0.480315</td>\n",
       "      <td>0.865886</td>\n",
       "      <td>...</td>\n",
       "      <td>0</td>\n",
       "      <td>0</td>\n",
       "      <td>0</td>\n",
       "      <td>0</td>\n",
       "      <td>0</td>\n",
       "      <td>0</td>\n",
       "      <td>0</td>\n",
       "      <td>0</td>\n",
       "      <td>0</td>\n",
       "      <td>2</td>\n",
       "    </tr>\n",
       "    <tr>\n",
       "      <th>4</th>\n",
       "      <td>0.368184</td>\n",
       "      <td>0.125000</td>\n",
       "      <td>0.030303</td>\n",
       "      <td>0.109520</td>\n",
       "      <td>0.222222</td>\n",
       "      <td>0.054939</td>\n",
       "      <td>0.866142</td>\n",
       "      <td>0.921260</td>\n",
       "      <td>0.590551</td>\n",
       "      <td>0.860449</td>\n",
       "      <td>...</td>\n",
       "      <td>0</td>\n",
       "      <td>0</td>\n",
       "      <td>0</td>\n",
       "      <td>0</td>\n",
       "      <td>0</td>\n",
       "      <td>0</td>\n",
       "      <td>0</td>\n",
       "      <td>0</td>\n",
       "      <td>0</td>\n",
       "      <td>5</td>\n",
       "    </tr>\n",
       "  </tbody>\n",
       "</table>\n",
       "<p>5 rows × 55 columns</p>\n",
       "</div>"
      ],
      "text/plain": [
       "   Elevation    Aspect     Slope  Horizontal_Distance_To_Hydrology  \\\n",
       "0   0.368684  0.141667  0.045455                          0.184681   \n",
       "1   0.365683  0.155556  0.030303                          0.151754   \n",
       "2   0.472736  0.386111  0.136364                          0.191840   \n",
       "3   0.463232  0.430556  0.272727                          0.173228   \n",
       "4   0.368184  0.125000  0.030303                          0.109520   \n",
       "\n",
       "   Vertical_Distance_To_Hydrology  Horizontal_Distance_To_Roadways  \\\n",
       "0                        0.223514                         0.071659   \n",
       "1                        0.215762                         0.054798   \n",
       "2                        0.307494                         0.446817   \n",
       "3                        0.375969                         0.434172   \n",
       "4                        0.222222                         0.054939   \n",
       "\n",
       "   Hillshade_9am  Hillshade_Noon  Hillshade_3pm  \\\n",
       "0       0.870079        0.913386       0.582677   \n",
       "1       0.866142        0.925197       0.594488   \n",
       "2       0.921260        0.937008       0.531496   \n",
       "3       0.937008        0.937008       0.480315   \n",
       "4       0.866142        0.921260       0.590551   \n",
       "\n",
       "   Horizontal_Distance_To_Fire_Points  ...  Soil_Type32  Soil_Type33  \\\n",
       "0                            0.875366  ...            0            0   \n",
       "1                            0.867838  ...            0            0   \n",
       "2                            0.853339  ...            0            0   \n",
       "3                            0.865886  ...            0            0   \n",
       "4                            0.860449  ...            0            0   \n",
       "\n",
       "   Soil_Type34  Soil_Type35  Soil_Type36  Soil_Type37  Soil_Type38  \\\n",
       "0            0            0            0            0            0   \n",
       "1            0            0            0            0            0   \n",
       "2            0            0            0            0            0   \n",
       "3            0            0            0            0            0   \n",
       "4            0            0            0            0            0   \n",
       "\n",
       "   Soil_Type39  Soil_Type40  class  \n",
       "0            0            0      5  \n",
       "1            0            0      5  \n",
       "2            0            0      2  \n",
       "3            0            0      2  \n",
       "4            0            0      5  \n",
       "\n",
       "[5 rows x 55 columns]"
      ]
     },
     "execution_count": 2,
     "metadata": {},
     "output_type": "execute_result"
    }
   ],
   "source": [
    "ds = pd.read_csv(\"data/covtype/covertype_csv.csv\")\n",
    "ds.head()"
   ]
  },
  {
   "cell_type": "code",
   "execution_count": 3,
   "metadata": {},
   "outputs": [
    {
     "data": {
      "text/plain": [
       "Index(['Elevation', 'Aspect', 'Slope', 'Horizontal_Distance_To_Hydrology',\n",
       "       'Vertical_Distance_To_Hydrology', 'Horizontal_Distance_To_Roadways',\n",
       "       'Hillshade_9am', 'Hillshade_Noon', 'Hillshade_3pm',\n",
       "       'Horizontal_Distance_To_Fire_Points', 'Wilderness_Area1',\n",
       "       'Wilderness_Area2', 'Wilderness_Area3', 'Wilderness_Area4',\n",
       "       'Soil_Type1', 'Soil_Type2', 'Soil_Type3', 'Soil_Type4', 'Soil_Type5',\n",
       "       'Soil_Type6', 'Soil_Type7', 'Soil_Type8', 'Soil_Type9', 'Soil_Type10',\n",
       "       'Soil_Type11', 'Soil_Type12', 'Soil_Type13', 'Soil_Type14',\n",
       "       'Soil_Type15', 'Soil_Type16', 'Soil_Type17', 'Soil_Type18',\n",
       "       'Soil_Type19', 'Soil_Type20', 'Soil_Type21', 'Soil_Type22',\n",
       "       'Soil_Type23', 'Soil_Type24', 'Soil_Type25', 'Soil_Type26',\n",
       "       'Soil_Type27', 'Soil_Type28', 'Soil_Type29', 'Soil_Type30',\n",
       "       'Soil_Type31', 'Soil_Type32', 'Soil_Type33', 'Soil_Type34',\n",
       "       'Soil_Type35', 'Soil_Type36', 'Soil_Type37', 'Soil_Type38',\n",
       "       'Soil_Type39', 'Soil_Type40', 'class'],\n",
       "      dtype='object')"
      ]
     },
     "execution_count": 3,
     "metadata": {},
     "output_type": "execute_result"
    }
   ],
   "source": [
    "ds.columns"
   ]
  },
  {
   "cell_type": "code",
   "execution_count": 4,
   "metadata": {},
   "outputs": [],
   "source": [
    "# only use a random subset for speed - pretend the rest of the data doesn't exist\n",
    "random_sample = np.random.choice(len(ds), len(ds) // 10)\n",
    "\n",
    "COVER_TYPE = 3\n",
    "ds = ds.loc[random_sample]\n",
    "features = ds.iloc[:, :-1]\n",
    "target = ds.iloc[:, -1] == COVER_TYPE"
   ]
  },
  {
   "cell_type": "code",
   "execution_count": 5,
   "metadata": {},
   "outputs": [
    {
     "data": {
      "text/plain": [
       "False    54409\n",
       "True      3692\n",
       "Name: class, dtype: int64"
      ]
     },
     "execution_count": 5,
     "metadata": {},
     "output_type": "execute_result"
    }
   ],
   "source": [
    "target.value_counts()"
   ]
  },
  {
   "cell_type": "code",
   "execution_count": 6,
   "metadata": {},
   "outputs": [
    {
     "name": "stderr",
     "output_type": "stream",
     "text": [
      "/home/krazy/.local/lib/python3.6/site-packages/sklearn/ensemble/forest.py:246: FutureWarning: The default value of n_estimators will change from 10 in version 0.20 to 100 in 0.22.\n",
      "  \"10 in version 0.20 to 100 in 0.22.\", FutureWarning)\n"
     ]
    },
    {
     "name": "stdout",
     "output_type": "stream",
     "text": [
      "Precision: 0.7859078590785907\n",
      "Recall: 0.8761329305135952\n",
      "F1 score: 0.8285714285714285\n"
     ]
    }
   ],
   "source": [
    "from sklearn.ensemble import RandomForestClassifier\n",
    "from sklearn.metrics import precision_score, recall_score, f1_score\n",
    "from sklearn.model_selection import train_test_split\n",
    "\n",
    "X_train, X_test, y_train, y_test = train_test_split(features, target, test_size = 0.2, stratify=target)\n",
    "r_forest = RandomForestClassifier(random_state=0, n_jobs=-1, class_weight=\"balanced\")\n",
    "r_forest.fit(X_train, y_train)\n",
    "y_predict = r_forest.predict(X_test)\n",
    "\n",
    "print(\"Precision: \"+str(precision_score(y_predict, y_test)))\n",
    "print(\"Recall: \"+str(recall_score(y_predict, y_test)))\n",
    "print(\"F1 score: \"+str(f1_score(y_predict, y_test)))"
   ]
  },
  {
   "cell_type": "code",
   "execution_count": 7,
   "metadata": {},
   "outputs": [
    {
     "name": "stdout",
     "output_type": "stream",
     "text": [
      "1. Elevation (0.230587)\n",
      "2. Wilderness_Area1 (0.177047)\n",
      "3. Wilderness_Area4 (0.110157)\n",
      "4. Soil_Type2 (0.051073)\n",
      "5. Horizontal_Distance_To_Roadways (0.050972)\n",
      "6. Soil_Type4 (0.048168)\n",
      "7. Soil_Type29 (0.035321)\n",
      "8. Slope (0.031313)\n",
      "9. Soil_Type33 (0.027812)\n",
      "10. Horizontal_Distance_To_Fire_Points (0.026689)\n",
      "11. Aspect (0.022983)\n",
      "12. Horizontal_Distance_To_Hydrology (0.022854)\n",
      "13. Soil_Type10 (0.018576)\n",
      "14. Hillshade_3pm (0.014202)\n",
      "15. Vertical_Distance_To_Hydrology (0.014157)\n",
      "16. Hillshade_Noon (0.013729)\n",
      "17. Soil_Type32 (0.012973)\n",
      "18. Hillshade_9am (0.012803)\n",
      "19. Wilderness_Area3 (0.011811)\n",
      "20. Soil_Type6 (0.009574)\n",
      "\n",
      "Mean Feature Importance 0.018519\n"
     ]
    },
    {
     "data": {
      "text/plain": [
       "<Figure size 640x480 with 1 Axes>"
      ]
     },
     "metadata": {},
     "output_type": "display_data"
    }
   ],
   "source": [
    "important_features = r_forest.feature_importances_\n",
    "indices = np.argsort(important_features)[::-1]\n",
    "\n",
    "for i in range(20): \n",
    "  print(\"%d. %s (%f)\" % (i + 1, features.columns[indices[i]], important_features[indices[i]]))\n",
    "\n",
    "print (\"\\nMean Feature Importance %.6f\" %np.mean(important_features))\n",
    "\n",
    "import matplotlib.pyplot as plt\n",
    "indices=indices[:10] \n",
    "plt.figure() \n",
    "plt.title(\"Top 10 Feature importances\") \n",
    "plt.bar(range(10), important_features[indices], color=\"br\") \n",
    "plt.xticks(range(10), ds.columns[indices], fontsize=14, rotation=90) \n",
    "plt.show()"
   ]
  },
  {
   "cell_type": "code",
   "execution_count": 8,
   "metadata": {},
   "outputs": [
    {
     "data": {
      "text/html": [
       "<div>\n",
       "<style scoped>\n",
       "    .dataframe tbody tr th:only-of-type {\n",
       "        vertical-align: middle;\n",
       "    }\n",
       "\n",
       "    .dataframe tbody tr th {\n",
       "        vertical-align: top;\n",
       "    }\n",
       "\n",
       "    .dataframe thead th {\n",
       "        text-align: right;\n",
       "    }\n",
       "</style>\n",
       "<table border=\"1\" class=\"dataframe\">\n",
       "  <thead>\n",
       "    <tr style=\"text-align: right;\">\n",
       "      <th></th>\n",
       "      <th>Elevation</th>\n",
       "      <th>Aspect</th>\n",
       "      <th>Slope</th>\n",
       "      <th>Horizontal_Distance_To_Hydrology</th>\n",
       "      <th>Vertical_Distance_To_Hydrology</th>\n",
       "      <th>Horizontal_Distance_To_Roadways</th>\n",
       "      <th>Hillshade_9am</th>\n",
       "      <th>Hillshade_Noon</th>\n",
       "      <th>Hillshade_3pm</th>\n",
       "      <th>Horizontal_Distance_To_Fire_Points</th>\n",
       "      <th>...</th>\n",
       "      <th>Soil_Type31</th>\n",
       "      <th>Soil_Type32</th>\n",
       "      <th>Soil_Type33</th>\n",
       "      <th>Soil_Type34</th>\n",
       "      <th>Soil_Type35</th>\n",
       "      <th>Soil_Type36</th>\n",
       "      <th>Soil_Type37</th>\n",
       "      <th>Soil_Type38</th>\n",
       "      <th>Soil_Type39</th>\n",
       "      <th>Soil_Type40</th>\n",
       "    </tr>\n",
       "  </thead>\n",
       "  <tbody>\n",
       "    <tr>\n",
       "      <th>count</th>\n",
       "      <td>58101.000000</td>\n",
       "      <td>58101.000000</td>\n",
       "      <td>58101.000000</td>\n",
       "      <td>58101.000000</td>\n",
       "      <td>58101.000000</td>\n",
       "      <td>58101.000000</td>\n",
       "      <td>58101.000000</td>\n",
       "      <td>58101.000000</td>\n",
       "      <td>58101.000000</td>\n",
       "      <td>58101.000000</td>\n",
       "      <td>...</td>\n",
       "      <td>58101.000000</td>\n",
       "      <td>58101.000000</td>\n",
       "      <td>58101.000000</td>\n",
       "      <td>58101.000000</td>\n",
       "      <td>58101.000000</td>\n",
       "      <td>58101.000000</td>\n",
       "      <td>58101.000000</td>\n",
       "      <td>58101.000000</td>\n",
       "      <td>58101.000000</td>\n",
       "      <td>58101.000000</td>\n",
       "    </tr>\n",
       "    <tr>\n",
       "      <th>mean</th>\n",
       "      <td>0.550517</td>\n",
       "      <td>0.431896</td>\n",
       "      <td>0.213838</td>\n",
       "      <td>0.193142</td>\n",
       "      <td>0.283570</td>\n",
       "      <td>0.330614</td>\n",
       "      <td>0.834850</td>\n",
       "      <td>0.879893</td>\n",
       "      <td>0.562202</td>\n",
       "      <td>0.275743</td>\n",
       "      <td>...</td>\n",
       "      <td>0.043855</td>\n",
       "      <td>0.091100</td>\n",
       "      <td>0.078123</td>\n",
       "      <td>0.002771</td>\n",
       "      <td>0.003666</td>\n",
       "      <td>0.000172</td>\n",
       "      <td>0.000447</td>\n",
       "      <td>0.027401</td>\n",
       "      <td>0.023201</td>\n",
       "      <td>0.014062</td>\n",
       "    </tr>\n",
       "    <tr>\n",
       "      <th>std</th>\n",
       "      <td>0.139901</td>\n",
       "      <td>0.310231</td>\n",
       "      <td>0.113317</td>\n",
       "      <td>0.152398</td>\n",
       "      <td>0.075517</td>\n",
       "      <td>0.219935</td>\n",
       "      <td>0.105206</td>\n",
       "      <td>0.077944</td>\n",
       "      <td>0.151114</td>\n",
       "      <td>0.184648</td>\n",
       "      <td>...</td>\n",
       "      <td>0.204773</td>\n",
       "      <td>0.287754</td>\n",
       "      <td>0.268367</td>\n",
       "      <td>0.052568</td>\n",
       "      <td>0.060437</td>\n",
       "      <td>0.013118</td>\n",
       "      <td>0.021150</td>\n",
       "      <td>0.163249</td>\n",
       "      <td>0.150543</td>\n",
       "      <td>0.117746</td>\n",
       "    </tr>\n",
       "    <tr>\n",
       "      <th>min</th>\n",
       "      <td>0.009005</td>\n",
       "      <td>0.000000</td>\n",
       "      <td>0.000000</td>\n",
       "      <td>0.000000</td>\n",
       "      <td>0.011628</td>\n",
       "      <td>0.000000</td>\n",
       "      <td>0.000000</td>\n",
       "      <td>0.118110</td>\n",
       "      <td>0.000000</td>\n",
       "      <td>0.000000</td>\n",
       "      <td>...</td>\n",
       "      <td>0.000000</td>\n",
       "      <td>0.000000</td>\n",
       "      <td>0.000000</td>\n",
       "      <td>0.000000</td>\n",
       "      <td>0.000000</td>\n",
       "      <td>0.000000</td>\n",
       "      <td>0.000000</td>\n",
       "      <td>0.000000</td>\n",
       "      <td>0.000000</td>\n",
       "      <td>0.000000</td>\n",
       "    </tr>\n",
       "    <tr>\n",
       "      <th>25%</th>\n",
       "      <td>0.474237</td>\n",
       "      <td>0.161111</td>\n",
       "      <td>0.136364</td>\n",
       "      <td>0.077309</td>\n",
       "      <td>0.232558</td>\n",
       "      <td>0.155122</td>\n",
       "      <td>0.779528</td>\n",
       "      <td>0.838583</td>\n",
       "      <td>0.472441</td>\n",
       "      <td>0.142479</td>\n",
       "      <td>...</td>\n",
       "      <td>0.000000</td>\n",
       "      <td>0.000000</td>\n",
       "      <td>0.000000</td>\n",
       "      <td>0.000000</td>\n",
       "      <td>0.000000</td>\n",
       "      <td>0.000000</td>\n",
       "      <td>0.000000</td>\n",
       "      <td>0.000000</td>\n",
       "      <td>0.000000</td>\n",
       "      <td>0.000000</td>\n",
       "    </tr>\n",
       "    <tr>\n",
       "      <th>50%</th>\n",
       "      <td>0.569785</td>\n",
       "      <td>0.352778</td>\n",
       "      <td>0.196970</td>\n",
       "      <td>0.156049</td>\n",
       "      <td>0.262274</td>\n",
       "      <td>0.280174</td>\n",
       "      <td>0.854331</td>\n",
       "      <td>0.889764</td>\n",
       "      <td>0.562992</td>\n",
       "      <td>0.237836</td>\n",
       "      <td>...</td>\n",
       "      <td>0.000000</td>\n",
       "      <td>0.000000</td>\n",
       "      <td>0.000000</td>\n",
       "      <td>0.000000</td>\n",
       "      <td>0.000000</td>\n",
       "      <td>0.000000</td>\n",
       "      <td>0.000000</td>\n",
       "      <td>0.000000</td>\n",
       "      <td>0.000000</td>\n",
       "      <td>0.000000</td>\n",
       "    </tr>\n",
       "    <tr>\n",
       "      <th>75%</th>\n",
       "      <td>0.652326</td>\n",
       "      <td>0.719444</td>\n",
       "      <td>0.272727</td>\n",
       "      <td>0.274875</td>\n",
       "      <td>0.312661</td>\n",
       "      <td>0.467894</td>\n",
       "      <td>0.909449</td>\n",
       "      <td>0.937008</td>\n",
       "      <td>0.665354</td>\n",
       "      <td>0.355082</td>\n",
       "      <td>...</td>\n",
       "      <td>0.000000</td>\n",
       "      <td>0.000000</td>\n",
       "      <td>0.000000</td>\n",
       "      <td>0.000000</td>\n",
       "      <td>0.000000</td>\n",
       "      <td>0.000000</td>\n",
       "      <td>0.000000</td>\n",
       "      <td>0.000000</td>\n",
       "      <td>0.000000</td>\n",
       "      <td>0.000000</td>\n",
       "    </tr>\n",
       "    <tr>\n",
       "      <th>max</th>\n",
       "      <td>1.000000</td>\n",
       "      <td>1.000000</td>\n",
       "      <td>0.969697</td>\n",
       "      <td>0.950608</td>\n",
       "      <td>0.994832</td>\n",
       "      <td>0.994520</td>\n",
       "      <td>1.000000</td>\n",
       "      <td>1.000000</td>\n",
       "      <td>0.996063</td>\n",
       "      <td>0.989684</td>\n",
       "      <td>...</td>\n",
       "      <td>1.000000</td>\n",
       "      <td>1.000000</td>\n",
       "      <td>1.000000</td>\n",
       "      <td>1.000000</td>\n",
       "      <td>1.000000</td>\n",
       "      <td>1.000000</td>\n",
       "      <td>1.000000</td>\n",
       "      <td>1.000000</td>\n",
       "      <td>1.000000</td>\n",
       "      <td>1.000000</td>\n",
       "    </tr>\n",
       "  </tbody>\n",
       "</table>\n",
       "<p>8 rows × 54 columns</p>\n",
       "</div>"
      ],
      "text/plain": [
       "          Elevation        Aspect         Slope  \\\n",
       "count  58101.000000  58101.000000  58101.000000   \n",
       "mean       0.550517      0.431896      0.213838   \n",
       "std        0.139901      0.310231      0.113317   \n",
       "min        0.009005      0.000000      0.000000   \n",
       "25%        0.474237      0.161111      0.136364   \n",
       "50%        0.569785      0.352778      0.196970   \n",
       "75%        0.652326      0.719444      0.272727   \n",
       "max        1.000000      1.000000      0.969697   \n",
       "\n",
       "       Horizontal_Distance_To_Hydrology  Vertical_Distance_To_Hydrology  \\\n",
       "count                      58101.000000                    58101.000000   \n",
       "mean                           0.193142                        0.283570   \n",
       "std                            0.152398                        0.075517   \n",
       "min                            0.000000                        0.011628   \n",
       "25%                            0.077309                        0.232558   \n",
       "50%                            0.156049                        0.262274   \n",
       "75%                            0.274875                        0.312661   \n",
       "max                            0.950608                        0.994832   \n",
       "\n",
       "       Horizontal_Distance_To_Roadways  Hillshade_9am  Hillshade_Noon  \\\n",
       "count                     58101.000000   58101.000000    58101.000000   \n",
       "mean                          0.330614       0.834850        0.879893   \n",
       "std                           0.219935       0.105206        0.077944   \n",
       "min                           0.000000       0.000000        0.118110   \n",
       "25%                           0.155122       0.779528        0.838583   \n",
       "50%                           0.280174       0.854331        0.889764   \n",
       "75%                           0.467894       0.909449        0.937008   \n",
       "max                           0.994520       1.000000        1.000000   \n",
       "\n",
       "       Hillshade_3pm  Horizontal_Distance_To_Fire_Points  ...   Soil_Type31  \\\n",
       "count   58101.000000                        58101.000000  ...  58101.000000   \n",
       "mean        0.562202                            0.275743  ...      0.043855   \n",
       "std         0.151114                            0.184648  ...      0.204773   \n",
       "min         0.000000                            0.000000  ...      0.000000   \n",
       "25%         0.472441                            0.142479  ...      0.000000   \n",
       "50%         0.562992                            0.237836  ...      0.000000   \n",
       "75%         0.665354                            0.355082  ...      0.000000   \n",
       "max         0.996063                            0.989684  ...      1.000000   \n",
       "\n",
       "        Soil_Type32   Soil_Type33   Soil_Type34   Soil_Type35   Soil_Type36  \\\n",
       "count  58101.000000  58101.000000  58101.000000  58101.000000  58101.000000   \n",
       "mean       0.091100      0.078123      0.002771      0.003666      0.000172   \n",
       "std        0.287754      0.268367      0.052568      0.060437      0.013118   \n",
       "min        0.000000      0.000000      0.000000      0.000000      0.000000   \n",
       "25%        0.000000      0.000000      0.000000      0.000000      0.000000   \n",
       "50%        0.000000      0.000000      0.000000      0.000000      0.000000   \n",
       "75%        0.000000      0.000000      0.000000      0.000000      0.000000   \n",
       "max        1.000000      1.000000      1.000000      1.000000      1.000000   \n",
       "\n",
       "        Soil_Type37   Soil_Type38   Soil_Type39   Soil_Type40  \n",
       "count  58101.000000  58101.000000  58101.000000  58101.000000  \n",
       "mean       0.000447      0.027401      0.023201      0.014062  \n",
       "std        0.021150      0.163249      0.150543      0.117746  \n",
       "min        0.000000      0.000000      0.000000      0.000000  \n",
       "25%        0.000000      0.000000      0.000000      0.000000  \n",
       "50%        0.000000      0.000000      0.000000      0.000000  \n",
       "75%        0.000000      0.000000      0.000000      0.000000  \n",
       "max        1.000000      1.000000      1.000000      1.000000  \n",
       "\n",
       "[8 rows x 54 columns]"
      ]
     },
     "execution_count": 8,
     "metadata": {},
     "output_type": "execute_result"
    }
   ],
   "source": [
    "features.describe()"
   ]
  },
  {
   "cell_type": "markdown",
   "metadata": {},
   "source": [
    "Being not much knowledge on domain, with the names of features hillshade seems interesting.\n",
    "I understand that if there's a sun at 9am in morning then there must be sun at noon and at 3pm also, \n",
    "if not then something must be wrong."
   ]
  },
  {
   "cell_type": "code",
   "execution_count": 9,
   "metadata": {},
   "outputs": [
    {
     "data": {
      "image/png": "[encoded data removed]",
      "text/plain": [
       "<Figure size 432x288 with 1 Axes>"
      ]
     },
     "metadata": {
      "needs_background": "light"
     },
     "output_type": "display_data"
    }
   ],
   "source": [
    "plt.title(\"Hillshade between 9AM and Noon\")\n",
    "plt.xlabel(\"Hillshade_9am\")\n",
    "plt.ylabel(\"Hillshade_noon\")\n",
    "plt.scatter(x=features.Hillshade_9am, y=features.Hillshade_Noon)\n",
    "plt.show()\n",
    "\n"
   ]
  },
  {
   "cell_type": "markdown",
   "metadata": {},
   "source": [
    "Looks fine to me. Only one point is a problem when Hillshade_noon = 0 and Hilshade_9am ~= 0.62"
   ]
  },
  {
   "cell_type": "code",
   "execution_count": 10,
   "metadata": {},
   "outputs": [
    {
     "data": {
      "image/png": "[encoded data removed]",
      "text/plain": [
       "<Figure size 432x288 with 1 Axes>"
      ]
     },
     "metadata": {
      "needs_background": "light"
     },
     "output_type": "display_data"
    }
   ],
   "source": [
    "plt.title(\"Hillshade between 3 PM and 9 AM\")\n",
    "plt.xlabel(\"Hillshade_9am\")\n",
    "plt.ylabel(\"Hillshade_3pm\")\n",
    "plt.scatter(x=features.Hillshade_9am, y=features.Hillshade_3pm)\n",
    "plt.show()"
   ]
  },
  {
   "cell_type": "markdown",
   "metadata": {},
   "source": [
    "It looks little fishy. If at 9 AM there's a shade, then at 3 PM also there must be shade. \n",
    "Here, a lot of points have 0 hillshade value at 3 pm."
   ]
  },
  {
   "cell_type": "code",
   "execution_count": 11,
   "metadata": {},
   "outputs": [
    {
     "data": {
      "text/plain": [
       "False    152\n",
       "True      28\n",
       "Name: class, dtype: int64"
      ]
     },
     "execution_count": 11,
     "metadata": {},
     "output_type": "execute_result"
    }
   ],
   "source": [
    "ind_3 = features[(features.Hillshade_3pm == 0) & (features.Hillshade_9am > 0)].index\n",
    "target[ind_3].value_counts()"
   ]
  },
  {
   "cell_type": "markdown",
   "metadata": {},
   "source": [
    "Random Forest Classifier gives use the detail of best features that it used to classify.\n",
    "Usually not all features are useful, choosing best features is one the most time taking job in Data science.\n",
    "Few tricks that I use to select features :-\n",
    "1. Many a times we handpick the features by understanding the problem domain. In this case Elevation and Hillshade. \n",
    "2. Use scatter plots, box plots to check the distribution of data with respect to target variable\n",
    "3. Look for correlation. \n",
    "4. Use regression, tree based algorithm to find the most important features. Tree algorithm employs Information gain and Gain ratio for splitting the tree based on information seen in the data. (In our dataset, data is pretty clean and without doing any pre-processing we can model Tree. It will give the initial idea on the useful features)\n",
    "5. We can also use Backward or Forward feature elimination technique. These techniques CPU and time intensive job because they do all permutation and combinations of of features to look for best features. \n",
    "\n",
    "**For this task, I am using tree based methods**"
   ]
  },
  {
   "cell_type": "markdown",
   "metadata": {},
   "source": [
    "#### Imlementing Lasso Regression for feature importance"
   ]
  },
  {
   "cell_type": "code",
   "execution_count": 12,
   "metadata": {},
   "outputs": [
    {
     "name": "stderr",
     "output_type": "stream",
     "text": [
      "/home/krazy/.local/lib/python3.6/site-packages/sklearn/model_selection/_split.py:2053: FutureWarning: You should specify a value for 'cv' instead of relying on the default value. The default value will change from 3 to 5 in version 0.22.\n",
      "  warnings.warn(CV_WARNING, FutureWarning)\n"
     ]
    },
    {
     "name": "stdout",
     "output_type": "stream",
     "text": [
      "Best alpha using built-in LassoCV: 0.000034\n",
      "Best score using built-in LassoCV: 0.531252\n"
     ]
    }
   ],
   "source": [
    "from sklearn.linear_model import LassoCV\n",
    "\n",
    "lasso = LassoCV()\n",
    "lasso.fit(features, target)\n",
    "print(\"Best alpha using built-in LassoCV: %f\" % lasso.alpha_)\n",
    "print(\"Best score using built-in LassoCV: %f\" % lasso.score(features, target))\n",
    "coef = pd.Series(lasso.coef_, index = features.columns)"
   ]
  },
  {
   "cell_type": "markdown",
   "metadata": {},
   "source": [
    "We have got very less value of Alpha. Nice !!!\n",
    "Regularization is used to penalize complexity of the model and therefore higher the alpha, \n",
    "we get less complex model, decreasing the error due to variance (overfit). "
   ]
  },
  {
   "cell_type": "code",
   "execution_count": 13,
   "metadata": {},
   "outputs": [
    {
     "data": {
      "text/plain": [
       "Text(0.5, 1.0, 'Feature importance using Lasso Model')"
      ]
     },
     "execution_count": 13,
     "metadata": {},
     "output_type": "execute_result"
    },
    {
     "data": {
      "image/png": "[encoded data removed]",
      "text/plain": [
       "<Figure size 576x720 with 1 Axes>"
      ]
     },
     "metadata": {
      "needs_background": "light"
     },
     "output_type": "display_data"
    }
   ],
   "source": [
    "imp_coef = coef.sort_values()\n",
    "plt.rcParams['figure.figsize'] = (8.0, 10.0)\n",
    "imp_coef.plot(kind = \"barh\")\n",
    "plt.title(\"Feature importance using Lasso Model\")"
   ]
  },
  {
   "cell_type": "markdown",
   "metadata": {},
   "source": [
    "Features having value 0 are not important as per the Lasso regression. \n",
    "I am focusing on the features it suggests. "
   ]
  },
  {
   "cell_type": "code",
   "execution_count": 18,
   "metadata": {},
   "outputs": [],
   "source": [
    "# Getting non zero features from Lasso\n",
    "lasso_cols = []\n",
    "for i in range(len(lasso.coef_)):\n",
    "    if lasso.coef_[i] != 0:\n",
    "        lasso_cols.append(ds.columns[i])"
   ]
  },
  {
   "cell_type": "code",
   "execution_count": 20,
   "metadata": {},
   "outputs": [],
   "source": [
    "def test_model(cols):\n",
    "    #Testing model again\n",
    "    test_features = features[cols]\n",
    "    X_train, X_test, y_train, y_test = train_test_split(test_features, target, test_size = 0.2, stratify=target)\n",
    "    test_forest = RandomForestClassifier(random_state=0, n_jobs=-1, class_weight=\"balanced\")\n",
    "    test_forest.fit(X_train, y_train)\n",
    "    test_y_predict = test_forest.predict(X_test)\n",
    "\n",
    "    print(\"Precision: \"+str(precision_score(test_y_predict, y_test)))\n",
    "    print(\"Recall: \"+str(recall_score(test_y_predict, y_test)))\n",
    "    print(\"F1 score: \"+str(f1_score(test_y_predict, y_test)))\n"
   ]
  },
  {
   "cell_type": "code",
   "execution_count": 21,
   "metadata": {},
   "outputs": [
    {
     "name": "stderr",
     "output_type": "stream",
     "text": [
      "/home/krazy/.local/lib/python3.6/site-packages/sklearn/ensemble/forest.py:246: FutureWarning: The default value of n_estimators will change from 10 in version 0.20 to 100 in 0.22.\n",
      "  \"10 in version 0.20 to 100 in 0.22.\", FutureWarning)\n"
     ]
    },
    {
     "name": "stdout",
     "output_type": "stream",
     "text": [
      "Precision: 0.7953929539295393\n",
      "Recall: 0.8800599700149925\n",
      "F1 score: 0.8355871886120996\n"
     ]
    }
   ],
   "source": [
    "test_model(lasso_cols)"
   ]
  },
  {
   "cell_type": "code",
   "execution_count": 22,
   "metadata": {},
   "outputs": [
    {
     "name": "stderr",
     "output_type": "stream",
     "text": [
      "/home/krazy/.local/lib/python3.6/site-packages/sklearn/ensemble/forest.py:246: FutureWarning: The default value of n_estimators will change from 10 in version 0.20 to 100 in 0.22.\n",
      "  \"10 in version 0.20 to 100 in 0.22.\", FutureWarning)\n"
     ]
    },
    {
     "name": "stdout",
     "output_type": "stream",
     "text": [
      "Precision: 0.7547425474254743\n",
      "Recall: 0.8264094955489614\n",
      "F1 score: 0.7889518413597733\n"
     ]
    }
   ],
   "source": [
    "cols = ['Elevation', 'Wilderness_Area1', 'Wilderness_Area4', 'Horizontal_Distance_To_Roadways', 'Soil_Type4', \n",
    "       'Horizontal_Distance_To_Fire_Points', 'Slope', 'Soil_Type29', 'Soil_Type2', 'Soil_Type33']\n",
    "test_model(cols)"
   ]
  }
 ],
 "metadata": {
  "kernelspec": {
   "display_name": "Python 3",
   "language": "python",
   "name": "python3"
  },
  "language_info": {
   "codemirror_mode": {
    "name": "ipython",
    "version": 3
   },
   "file_extension": ".py",
   "mimetype": "text/x-python",
   "name": "python",
   "nbconvert_exporter": "python",
   "pygments_lexer": "ipython3",
   "version": "3.6.8"
  }
 },
 "nbformat": 4,
 "nbformat_minor": 2
}
