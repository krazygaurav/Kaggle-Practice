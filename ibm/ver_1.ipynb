{
 "cells": [
  {
   "cell_type": "code",
   "execution_count": 7,
   "metadata": {},
   "outputs": [],
   "source": [
    "from time import time\n",
    "from collections import Counter\n",
    "from pathlib import Path\n",
    "import pandas as pd\n",
    "import numpy as np\n",
    "from sklearn.svm import LinearSVC\n",
    "from sklearn.model_selection import train_test_split, ShuffleSplit, cross_validate\n",
    "import matplotlib.pyplot as plt\n",
    "import seaborn as sns\n",
    "%matplotlib inline\n",
    "import warnings\n",
    "warnings.filterwarnings('ignore')"
   ]
  },
  {
   "cell_type": "code",
   "execution_count": 8,
   "metadata": {},
   "outputs": [],
   "source": [
    "training_df = pd.read_csv(\"data/cardiotocography_train.csv\")\n",
    "validation_df = pd.read_csv(\"data/cardiotocography_validation.csv\")"
   ]
  },
  {
   "cell_type": "code",
   "execution_count": 9,
   "metadata": {},
   "outputs": [
    {
     "data": {
      "text/html": [
       "<div>\n",
       "<style scoped>\n",
       "    .dataframe tbody tr th:only-of-type {\n",
       "        vertical-align: middle;\n",
       "    }\n",
       "\n",
       "    .dataframe tbody tr th {\n",
       "        vertical-align: top;\n",
       "    }\n",
       "\n",
       "    .dataframe thead th {\n",
       "        text-align: right;\n",
       "    }\n",
       "</style>\n",
       "<table border=\"1\" class=\"dataframe\">\n",
       "  <thead>\n",
       "    <tr style=\"text-align: right;\">\n",
       "      <th></th>\n",
       "      <th>LB</th>\n",
       "      <th>AC</th>\n",
       "      <th>FM</th>\n",
       "      <th>UC</th>\n",
       "      <th>ASTV</th>\n",
       "      <th>MSTV</th>\n",
       "      <th>ALTV</th>\n",
       "      <th>MLTV</th>\n",
       "      <th>DL</th>\n",
       "      <th>DS</th>\n",
       "      <th>...</th>\n",
       "      <th>Min</th>\n",
       "      <th>Max</th>\n",
       "      <th>Nmax</th>\n",
       "      <th>Nzeros</th>\n",
       "      <th>Mode</th>\n",
       "      <th>Mean</th>\n",
       "      <th>Median</th>\n",
       "      <th>Variance</th>\n",
       "      <th>Tendency</th>\n",
       "      <th>NSP</th>\n",
       "    </tr>\n",
       "  </thead>\n",
       "  <tbody>\n",
       "    <tr>\n",
       "      <th>0</th>\n",
       "      <td>130</td>\n",
       "      <td>10</td>\n",
       "      <td>54</td>\n",
       "      <td>1</td>\n",
       "      <td>34</td>\n",
       "      <td>2.1</td>\n",
       "      <td>0</td>\n",
       "      <td>3.0</td>\n",
       "      <td>0</td>\n",
       "      <td>0</td>\n",
       "      <td>...</td>\n",
       "      <td>50</td>\n",
       "      <td>182</td>\n",
       "      <td>8</td>\n",
       "      <td>0</td>\n",
       "      <td>159</td>\n",
       "      <td>151</td>\n",
       "      <td>155</td>\n",
       "      <td>25</td>\n",
       "      <td>1</td>\n",
       "      <td>1</td>\n",
       "    </tr>\n",
       "    <tr>\n",
       "      <th>1</th>\n",
       "      <td>120</td>\n",
       "      <td>4</td>\n",
       "      <td>23</td>\n",
       "      <td>5</td>\n",
       "      <td>36</td>\n",
       "      <td>1.5</td>\n",
       "      <td>0</td>\n",
       "      <td>13.5</td>\n",
       "      <td>0</td>\n",
       "      <td>0</td>\n",
       "      <td>...</td>\n",
       "      <td>62</td>\n",
       "      <td>174</td>\n",
       "      <td>6</td>\n",
       "      <td>0</td>\n",
       "      <td>119</td>\n",
       "      <td>129</td>\n",
       "      <td>125</td>\n",
       "      <td>42</td>\n",
       "      <td>0</td>\n",
       "      <td>1</td>\n",
       "    </tr>\n",
       "    <tr>\n",
       "      <th>2</th>\n",
       "      <td>133</td>\n",
       "      <td>0</td>\n",
       "      <td>0</td>\n",
       "      <td>4</td>\n",
       "      <td>20</td>\n",
       "      <td>2.7</td>\n",
       "      <td>0</td>\n",
       "      <td>18.5</td>\n",
       "      <td>6</td>\n",
       "      <td>0</td>\n",
       "      <td>...</td>\n",
       "      <td>63</td>\n",
       "      <td>161</td>\n",
       "      <td>7</td>\n",
       "      <td>0</td>\n",
       "      <td>136</td>\n",
       "      <td>124</td>\n",
       "      <td>134</td>\n",
       "      <td>61</td>\n",
       "      <td>1</td>\n",
       "      <td>1</td>\n",
       "    </tr>\n",
       "    <tr>\n",
       "      <th>3</th>\n",
       "      <td>136</td>\n",
       "      <td>4</td>\n",
       "      <td>0</td>\n",
       "      <td>5</td>\n",
       "      <td>46</td>\n",
       "      <td>0.8</td>\n",
       "      <td>1</td>\n",
       "      <td>7.4</td>\n",
       "      <td>0</td>\n",
       "      <td>0</td>\n",
       "      <td>...</td>\n",
       "      <td>119</td>\n",
       "      <td>158</td>\n",
       "      <td>1</td>\n",
       "      <td>1</td>\n",
       "      <td>144</td>\n",
       "      <td>143</td>\n",
       "      <td>145</td>\n",
       "      <td>1</td>\n",
       "      <td>0</td>\n",
       "      <td>1</td>\n",
       "    </tr>\n",
       "    <tr>\n",
       "      <th>4</th>\n",
       "      <td>130</td>\n",
       "      <td>6</td>\n",
       "      <td>557</td>\n",
       "      <td>6</td>\n",
       "      <td>29</td>\n",
       "      <td>1.7</td>\n",
       "      <td>0</td>\n",
       "      <td>7.8</td>\n",
       "      <td>5</td>\n",
       "      <td>0</td>\n",
       "      <td>...</td>\n",
       "      <td>65</td>\n",
       "      <td>177</td>\n",
       "      <td>6</td>\n",
       "      <td>1</td>\n",
       "      <td>133</td>\n",
       "      <td>129</td>\n",
       "      <td>133</td>\n",
       "      <td>27</td>\n",
       "      <td>0</td>\n",
       "      <td>1</td>\n",
       "    </tr>\n",
       "  </tbody>\n",
       "</table>\n",
       "<p>5 rows × 22 columns</p>\n",
       "</div>"
      ],
      "text/plain": [
       "    LB  AC   FM  UC  ASTV  MSTV  ALTV  MLTV  DL  DS  ...  Min  Max  Nmax  \\\n",
       "0  130  10   54   1    34   2.1     0   3.0   0   0  ...   50  182     8   \n",
       "1  120   4   23   5    36   1.5     0  13.5   0   0  ...   62  174     6   \n",
       "2  133   0    0   4    20   2.7     0  18.5   6   0  ...   63  161     7   \n",
       "3  136   4    0   5    46   0.8     1   7.4   0   0  ...  119  158     1   \n",
       "4  130   6  557   6    29   1.7     0   7.8   5   0  ...   65  177     6   \n",
       "\n",
       "   Nzeros  Mode  Mean  Median  Variance  Tendency  NSP  \n",
       "0       0   159   151     155        25         1    1  \n",
       "1       0   119   129     125        42         0    1  \n",
       "2       0   136   124     134        61         1    1  \n",
       "3       1   144   143     145         1         0    1  \n",
       "4       1   133   129     133        27         0    1  \n",
       "\n",
       "[5 rows x 22 columns]"
      ]
     },
     "execution_count": 9,
     "metadata": {},
     "output_type": "execute_result"
    }
   ],
   "source": [
    "training_df.head()"
   ]
  },
  {
   "cell_type": "code",
   "execution_count": 56,
   "metadata": {},
   "outputs": [
    {
     "data": {
      "text/plain": [
       "LB            0\n",
       "AC            0\n",
       "FM            0\n",
       "UC            0\n",
       "ASTV          0\n",
       "MSTV          0\n",
       "ALTV          0\n",
       "MLTV          0\n",
       "DL            0\n",
       "DS            0\n",
       "DP            0\n",
       "Width         0\n",
       "Min           0\n",
       "Max           0\n",
       "Nmax          0\n",
       "Nzeros        0\n",
       "Mode          0\n",
       "Mean          0\n",
       "Median        0\n",
       "Variance      0\n",
       "Tendency      0\n",
       "NSP         367\n",
       "dtype: int64"
      ]
     },
     "execution_count": 56,
     "metadata": {},
     "output_type": "execute_result"
    }
   ],
   "source": [
    "# Testing for null data\n",
    "training_df.isna().sum()"
   ]
  },
  {
   "cell_type": "code",
   "execution_count": 11,
   "metadata": {},
   "outputs": [
    {
     "data": {
      "text/plain": [
       "LB            int64\n",
       "AC            int64\n",
       "FM            int64\n",
       "UC            int64\n",
       "ASTV          int64\n",
       "MSTV        float64\n",
       "ALTV          int64\n",
       "MLTV        float64\n",
       "DL            int64\n",
       "DS            int64\n",
       "DP            int64\n",
       "Width         int64\n",
       "Min           int64\n",
       "Max           int64\n",
       "Nmax          int64\n",
       "Nzeros        int64\n",
       "Mode          int64\n",
       "Mean          int64\n",
       "Median        int64\n",
       "Variance      int64\n",
       "Tendency      int64\n",
       "NSP           int64\n",
       "dtype: object"
      ]
     },
     "execution_count": 11,
     "metadata": {},
     "output_type": "execute_result"
    }
   ],
   "source": [
    "# Checking the datatypes\n",
    "training_df.dtypes"
   ]
  },
  {
   "cell_type": "markdown",
   "metadata": {},
   "source": [
    "## Data Exploration"
   ]
  },
  {
   "cell_type": "code",
   "execution_count": 16,
   "metadata": {},
   "outputs": [
    {
     "data": {
      "text/plain": [
       "1    1327\n",
       "2     295\n",
       "3     137\n",
       "Name: NSP, dtype: int64"
      ]
     },
     "execution_count": 16,
     "metadata": {},
     "output_type": "execute_result"
    }
   ],
   "source": [
    "# Class labels\n",
    "training_df['NSP'].value_counts()\n",
    "\n",
    "# Less data for Pathologic and Suspect"
   ]
  },
  {
   "cell_type": "markdown",
   "metadata": {},
   "source": [
    "### Exploring corelation"
   ]
  },
  {
   "cell_type": "code",
   "execution_count": 24,
   "metadata": {},
   "outputs": [
    {
     "data": {
      "image/png": "[encoded data removed]",
      "text/plain": [
       "<Figure size 720x504 with 2 Axes>"
      ]
     },
     "metadata": {
      "needs_background": "light"
     },
     "output_type": "display_data"
    }
   ],
   "source": [
    "correlation_matrix = training_df.corr()\n",
    "fig = plt.figure(figsize=(10, 7))\n",
    "ax = plt.axes()\n",
    "ax = sns.heatmap(correlation_matrix, mask=np.zeros_like(correlation_matrix, dtype=np.bool), cmap=\"Blues\", square=True, ax = ax)\n",
    "plt.show()"
   ]
  },
  {
   "cell_type": "markdown",
   "metadata": {},
   "source": [
    "# Modelling Data"
   ]
  },
  {
   "cell_type": "code",
   "execution_count": 60,
   "metadata": {},
   "outputs": [],
   "source": [
    "def applyRules():\n",
    "    "
   ]
  },
  {
   "cell_type": "code",
   "execution_count": 86,
   "metadata": {},
   "outputs": [],
   "source": [
    "# X_cols = ['LB', 'AC', 'FM', 'UC', 'ASTV', 'MSTV', 'ALTV', 'MLTV', 'DL', 'DS', 'DP', 'Width', 'Max', 'Nmax', 'Nzeros', 'Median', 'Variance', 'Tendency']\n",
    "X_cols = ['AC', 'DP', 'LB', 'Median', 'Mode', 'MSTV', 'Mean', 'Width', 'ALTV', 'ASTV']\n",
    "Y_cols = ['NSP']"
   ]
  },
  {
   "cell_type": "code",
   "execution_count": 146,
   "metadata": {},
   "outputs": [],
   "source": [
    "X = training_df[training_df.columns[:-1]]\n",
    "y = training_df[training_df.columns[-1]]\n",
    "\n",
    "X_train, X_test, y_train, y_test = train_test_split(X, y, test_size=0.33, random_state=42)\n",
    "\n",
    "# X_test = validation_df[validation_df.columns[:-1]]\n",
    "# y_test = validation_df[validation_df.columns[-1]]"
   ]
  },
  {
   "cell_type": "code",
   "execution_count": 147,
   "metadata": {},
   "outputs": [],
   "source": [
    "testing = validation_df[validation_df.columns[:-1]]"
   ]
  },
  {
   "cell_type": "markdown",
   "metadata": {},
   "source": [
    "## Decision Tree"
   ]
  },
  {
   "cell_type": "code",
   "execution_count": 148,
   "metadata": {},
   "outputs": [],
   "source": [
    "from sklearn.model_selection import cross_val_score"
   ]
  },
  {
   "cell_type": "code",
   "execution_count": 149,
   "metadata": {},
   "outputs": [],
   "source": [
    "from sklearn.tree import DecisionTreeClassifier"
   ]
  },
  {
   "cell_type": "code",
   "execution_count": 150,
   "metadata": {},
   "outputs": [],
   "source": [
    "# Training Decision tree\n",
    "DT = DecisionTreeClassifier()"
   ]
  },
  {
   "cell_type": "code",
   "execution_count": 151,
   "metadata": {},
   "outputs": [
    {
     "data": {
      "text/plain": [
       "DecisionTreeClassifier(class_weight=None, criterion='gini', max_depth=None,\n",
       "            max_features=None, max_leaf_nodes=None,\n",
       "            min_impurity_decrease=0.0, min_impurity_split=None,\n",
       "            min_samples_leaf=1, min_samples_split=2,\n",
       "            min_weight_fraction_leaf=0.0, presort=False, random_state=None,\n",
       "            splitter='best')"
      ]
     },
     "execution_count": 151,
     "metadata": {},
     "output_type": "execute_result"
    }
   ],
   "source": [
    "DT.fit(X, y)"
   ]
  },
  {
   "cell_type": "code",
   "execution_count": 153,
   "metadata": {},
   "outputs": [
    {
     "data": {
      "text/plain": [
       "1564    2\n",
       "591     1\n",
       "1567    2\n",
       "341     1\n",
       "147     1\n",
       "360     1\n",
       "83      1\n",
       "48      1\n",
       "468     1\n",
       "155     1\n",
       "1061    1\n",
       "1226    1\n",
       "1063    1\n",
       "1433    1\n",
       "500     1\n",
       "179     1\n",
       "1013    1\n",
       "816     1\n",
       "1268    1\n",
       "528     1\n",
       "346     1\n",
       "1329    1\n",
       "1719    2\n",
       "643     1\n",
       "886     1\n",
       "999     1\n",
       "601     1\n",
       "1721    2\n",
       "243     1\n",
       "819     1\n",
       "       ..\n",
       "955     1\n",
       "1215    1\n",
       "385     1\n",
       "805     1\n",
       "1437    1\n",
       "1515    2\n",
       "343     1\n",
       "769     1\n",
       "1332    1\n",
       "1685    2\n",
       "130     1\n",
       "1687    2\n",
       "871     1\n",
       "1123    3\n",
       "1396    3\n",
       "87      1\n",
       "1482    2\n",
       "330     1\n",
       "1238    1\n",
       "466     1\n",
       "121     1\n",
       "1638    2\n",
       "1044    1\n",
       "1724    2\n",
       "1095    1\n",
       "1130    1\n",
       "1294    1\n",
       "860     1\n",
       "1459    1\n",
       "1126    1\n",
       "Name: NSP, Length: 1178, dtype: int64"
      ]
     },
     "execution_count": 153,
     "metadata": {},
     "output_type": "execute_result"
    }
   ],
   "source": [
    "y_train"
   ]
  },
  {
   "cell_type": "code",
   "execution_count": 154,
   "metadata": {},
   "outputs": [
    {
     "data": {
      "text/plain": [
       "0       1\n",
       "1       1\n",
       "2       1\n",
       "3       1\n",
       "4       1\n",
       "5       1\n",
       "6       1\n",
       "7       1\n",
       "8       1\n",
       "9       1\n",
       "10      1\n",
       "11      1\n",
       "12      1\n",
       "13      1\n",
       "14      1\n",
       "15      1\n",
       "16      1\n",
       "17      1\n",
       "18      1\n",
       "19      3\n",
       "20      1\n",
       "21      1\n",
       "22      1\n",
       "23      1\n",
       "24      1\n",
       "25      1\n",
       "26      3\n",
       "27      1\n",
       "28      1\n",
       "29      1\n",
       "       ..\n",
       "1729    2\n",
       "1730    2\n",
       "1731    2\n",
       "1732    2\n",
       "1733    2\n",
       "1734    2\n",
       "1735    2\n",
       "1736    2\n",
       "1737    2\n",
       "1738    2\n",
       "1739    2\n",
       "1740    2\n",
       "1741    2\n",
       "1742    2\n",
       "1743    2\n",
       "1744    2\n",
       "1745    2\n",
       "1746    2\n",
       "1747    2\n",
       "1748    2\n",
       "1749    2\n",
       "1750    2\n",
       "1751    2\n",
       "1752    2\n",
       "1753    2\n",
       "1754    2\n",
       "1755    2\n",
       "1756    2\n",
       "1757    2\n",
       "1758    2\n",
       "Name: NSP, Length: 1759, dtype: int64"
      ]
     },
     "execution_count": 154,
     "metadata": {},
     "output_type": "execute_result"
    }
   ],
   "source": [
    "y"
   ]
  },
  {
   "cell_type": "code",
   "execution_count": 155,
   "metadata": {},
   "outputs": [],
   "source": [
    "y_predict = DT.predict(testing)"
   ]
  },
  {
   "cell_type": "code",
   "execution_count": 144,
   "metadata": {},
   "outputs": [
    {
     "data": {
      "text/plain": [
       "array([ 0,  8,  0,  0,  0,  0,  6,  1,  7,  0,  0,  5,  9,  0,  8,  4,  6,\n",
       "        0,  9,  4,  1,  0,  2,  4,  0,  1,  0,  0,  3,  0,  0,  8,  0,  0,\n",
       "        6,  0,  6,  3,  1,  4,  0,  0,  0,  1,  0,  6,  0,  0,  8,  0,  3,\n",
       "        0,  5,  2,  1,  0,  0,  8,  4,  1,  0,  0,  0,  0,  7, 12,  3,  0,\n",
       "        3,  3, 10,  0,  3,  2, 17,  4,  3,  5,  0,  0,  2,  4,  3,  1,  0,\n",
       "        2,  2, 10, 16,  0,  3,  0,  7,  5,  0,  1,  0, 13,  0,  2,  1,  6,\n",
       "        0,  0,  7,  0,  1,  5,  0,  8,  3, 10,  0,  3,  7,  3,  0,  6,  0,\n",
       "        0,  0,  1,  0,  1,  3,  2,  6,  0,  5,  2,  8,  0,  3,  0,  1,  1,\n",
       "        3,  0,  0,  5,  0,  2, 11,  0,  0,  5,  8,  3,  0,  0,  5,  3,  0,\n",
       "        0,  0,  1,  0,  4,  7,  3,  0,  0,  0,  5,  3,  0,  5,  0,  8,  0,\n",
       "        2,  7, 10,  0,  2, 14,  4,  0,  0,  0,  1,  4,  0,  0,  1,  1,  0,\n",
       "        0,  0,  0,  4,  4,  0,  1,  0,  2,  2, 13,  0,  0,  7,  2,  0,  0,\n",
       "        4,  4,  2,  1,  4, 18,  6,  0,  3,  0,  1,  1,  6,  1,  3,  0,  2,\n",
       "        0,  0,  0,  0,  0,  8,  5,  0,  5,  0, 10,  3,  3, 13,  5,  1,  6,\n",
       "        1,  6,  1,  4, 10,  0,  3,  0,  4,  3, 11,  0,  6,  2,  1,  5,  5,\n",
       "        0,  0,  1,  4,  0,  3,  0,  0,  0,  8,  8, 15,  2,  0,  1,  0,  4,\n",
       "        3,  8,  0,  6,  1,  0,  6,  6,  5,  0,  7,  0,  1,  9,  5,  0,  2,\n",
       "        1,  0,  7,  2,  1,  5,  4,  0,  0,  0,  3,  0,  0,  5,  1,  0,  0,\n",
       "        2,  0,  5,  3, 13,  0,  3,  3,  0,  8,  4,  0,  0,  0,  6,  0,  1,\n",
       "        3,  0,  1,  2,  0,  0,  7,  0,  0,  0,  5,  2,  6,  9,  0,  2,  9,\n",
       "        0, 13,  0,  2,  0,  2,  3,  0,  4,  1,  1,  2,  0,  2,  5,  1,  4,\n",
       "        6,  3,  1,  0, 10,  4,  6,  0,  2,  0])"
      ]
     },
     "execution_count": 144,
     "metadata": {},
     "output_type": "execute_result"
    }
   ],
   "source": [
    "y_predict"
   ]
  },
  {
   "cell_type": "code",
   "execution_count": 135,
   "metadata": {},
   "outputs": [],
   "source": [
    "applyRules()"
   ]
  },
  {
   "cell_type": "code",
   "execution_count": 136,
   "metadata": {},
   "outputs": [],
   "source": [
    "from sklearn.metrics import accuracy_score"
   ]
  },
  {
   "cell_type": "code",
   "execution_count": 137,
   "metadata": {},
   "outputs": [
    {
     "data": {
      "text/plain": [
       "0.9913941480206541"
      ]
     },
     "execution_count": 137,
     "metadata": {},
     "output_type": "execute_result"
    }
   ],
   "source": [
    "accuracy_score(y_test, y_predict)"
   ]
  },
  {
   "cell_type": "code",
   "execution_count": 158,
   "metadata": {},
   "outputs": [],
   "source": [
    "def cross(model, true, test):\n",
    "    scores = cross_val_score(model, true, test, cv=5, scoring='f1_macro')\n",
    "    print(scores)"
   ]
  },
  {
   "cell_type": "markdown",
   "metadata": {},
   "source": [
    "## Random Forest"
   ]
  },
  {
   "cell_type": "code",
   "execution_count": 95,
   "metadata": {},
   "outputs": [],
   "source": [
    "from sklearn.ensemble import RandomForestClassifier"
   ]
  },
  {
   "cell_type": "code",
   "execution_count": 96,
   "metadata": {},
   "outputs": [],
   "source": [
    "RF = RandomForestClassifier()"
   ]
  },
  {
   "cell_type": "code",
   "execution_count": 97,
   "metadata": {},
   "outputs": [],
   "source": [
    "RF.fit(X_train, y_train)\n",
    "rf_predict = RF.predict(X_test)"
   ]
  },
  {
   "cell_type": "code",
   "execution_count": 98,
   "metadata": {},
   "outputs": [
    {
     "data": {
      "text/plain": [
       "0.919104991394148"
      ]
     },
     "execution_count": 98,
     "metadata": {},
     "output_type": "execute_result"
    }
   ],
   "source": [
    "accuracy_score(y_test, rf_predict)"
   ]
  },
  {
   "cell_type": "markdown",
   "metadata": {},
   "source": [
    "## SVM"
   ]
  },
  {
   "cell_type": "code",
   "execution_count": 81,
   "metadata": {},
   "outputs": [],
   "source": [
    "from sklearn.svm import LinearSVC"
   ]
  },
  {
   "cell_type": "code",
   "execution_count": 82,
   "metadata": {},
   "outputs": [],
   "source": [
    "SV = LinearSVC()"
   ]
  },
  {
   "cell_type": "code",
   "execution_count": 83,
   "metadata": {},
   "outputs": [],
   "source": [
    "SV.fit(X_train, y_train)\n",
    "SV_predict = SV.predict(X_test)"
   ]
  },
  {
   "cell_type": "code",
   "execution_count": 84,
   "metadata": {},
   "outputs": [
    {
     "data": {
      "text/plain": [
       "0.810671256454389"
      ]
     },
     "execution_count": 84,
     "metadata": {},
     "output_type": "execute_result"
    }
   ],
   "source": [
    "accuracy_score(y_test, SV_predict)"
   ]
  },
  {
   "cell_type": "code",
   "execution_count": 156,
   "metadata": {},
   "outputs": [],
   "source": [
    "exportResults(DT.predict(testing))"
   ]
  },
  {
   "cell_type": "code",
   "execution_count": 157,
   "metadata": {},
   "outputs": [],
   "source": [
    "def exportResults(prediction):\n",
    "    pd.Series(prediction).to_csv(\"CAPTAIN_AMERICA.csv\", sep=\",\", index=False)"
   ]
  }
 ],
 "metadata": {
  "kernelspec": {
   "display_name": "Python 3",
   "language": "python",
   "name": "python3"
  },
  "language_info": {
   "codemirror_mode": {
    "name": "ipython",
    "version": 3
   },
   "file_extension": ".py",
   "mimetype": "text/x-python",
   "name": "python",
   "nbconvert_exporter": "python",
   "pygments_lexer": "ipython3",
   "version": "3.6.8"
  }
 },
 "nbformat": 4,
 "nbformat_minor": 2
}
