{
 "cells": [
  {
   "cell_type": "code",
   "execution_count": 1,
   "metadata": {},
   "outputs": [],
   "source": [
    "#!/usr/bin/env python3\n",
    "# -*- coding: utf-8 -*-\n",
    "\"\"\"\n",
    "Created on Sat May 18 18:56:40 2019\n",
    "\n",
    "@author: krazy\n",
    "@Dataset -> https://www.kaggle.com/rtatman/digidb\n",
    "\"\"\"\n",
    "\n",
    "import pandas as pd\n",
    "import numpy as np\n",
    "import math as math\n",
    "import seaborn as sns\n",
    "import matplotlib.pyplot as plt\n",
    "from scipy.stats import chi2_contingency "
   ]
  },
  {
   "cell_type": "code",
   "execution_count": 2,
   "metadata": {},
   "outputs": [],
   "source": [
    "digimons = pd.read_csv(\"data/digimon-database/DigiDB_digimonlist.csv\")\n",
    "moves = pd.read_csv(\"data/digimon-database/DigiDB_movelist.csv\")\n",
    "supports = pd.read_csv(\"data/digimon-database/DigiDB_supportlist.csv\")"
   ]
  },
  {
   "cell_type": "code",
   "execution_count": 3,
   "metadata": {},
   "outputs": [
    {
     "name": "stdout",
     "output_type": "stream",
     "text": [
      "   Number  Digimon Stage  Type Attribute  Memory  Equip Slots  Lv 50 HP  \\\n",
      "0       1  Kuramon  Baby  Free   Neutral       2            0       590   \n",
      "1       2  Pabumon  Baby  Free   Neutral       2            0       950   \n",
      "2       3  Punimon  Baby  Free   Neutral       2            0       870   \n",
      "3       4  Botamon  Baby  Free   Neutral       2            0       690   \n",
      "4       5  Poyomon  Baby  Free   Neutral       2            0       540   \n",
      "\n",
      "   Lv50 SP  Lv50 Atk  Lv50 Def  Lv50 Int  Lv50 Spd  \n",
      "0       77        79        69        68        95  \n",
      "1       62        76        76        69        68  \n",
      "2       50        97        87        50        75  \n",
      "3       68        77        95        76        61  \n",
      "4       98        54        59        95        86  \n",
      "Shape:  (249, 13)\n"
     ]
    }
   ],
   "source": [
    "print(digimons.head())\n",
    "print(\"Shape: \",digimons.shape)"
   ]
  },
  {
   "cell_type": "code",
   "execution_count": 4,
   "metadata": {},
   "outputs": [
    {
     "name": "stdout",
     "output_type": "stream",
     "text": [
      "              Move  SP Cost      Type  Power Attribute Inheritable  \\\n",
      "0    Wolkenapalm I        3  Physical     65      Fire         Yes   \n",
      "1   Wolkenapalm II        6  Physical     85      Fire         Yes   \n",
      "2  Wolkenapalm III        9  Physical    105      Fire         Yes   \n",
      "3    Burst Flame I        3     Magic     55      Fire         Yes   \n",
      "4   Burst Flame II        6     Magic     75      Fire         Yes   \n",
      "\n",
      "                                         Description  \n",
      "0  Physical attack, 65 Fire damage to one foe. 95...  \n",
      "1  Physical attack, 85 Fire damage to one foe. 95...  \n",
      "2  Physical attack, 105 Fire damage to one foe. 9...  \n",
      "3  Magic attack, 55 Fire damage to one foe. 95% a...  \n",
      "4  Magic attack, 75 Fire damage to one foe. 95% a...  \n",
      "Shape:  (387, 7)\n"
     ]
    }
   ],
   "source": [
    "print(moves.head())\n",
    "print(\"Shape: \",moves.shape)"
   ]
  },
  {
   "cell_type": "code",
   "execution_count": 5,
   "metadata": {},
   "outputs": [
    {
     "name": "stdout",
     "output_type": "stream",
     "text": [
      "               Name                                        Description\n",
      "0     Adroit Wisdom                              Increases INT by 15%.\n",
      "1       All-Rounder             Increases ATK, DEF, INT and SPD by 5%.\n",
      "2           Analyze                      Increases scan values by 10%.\n",
      "3  Animal Colosseum         Increases damage from Earth skills by 15%.\n",
      "4      Aus Generics  Increases SPD and EVA by 25% when HP drops bel...\n",
      "Shape:  (86, 2)\n"
     ]
    }
   ],
   "source": [
    "print(supports.head())\n",
    "print(\"Shape: \",supports.shape)"
   ]
  },
  {
   "cell_type": "markdown",
   "metadata": {},
   "source": [
    "## Which set of moves will get the best ratio of attack power to SP spent?"
   ]
  },
  {
   "cell_type": "code",
   "execution_count": 6,
   "metadata": {},
   "outputs": [],
   "source": [
    "def powerToSP(row):\n",
    "    return float(\"inf\") if row[\"SP Cost\"]==0 else row[\"Power\"]/row[\"SP Cost\"]"
   ]
  },
  {
   "cell_type": "code",
   "execution_count": 7,
   "metadata": {},
   "outputs": [],
   "source": [
    "#Creating a new column for holding the attack to sp ratio\n",
    "moves[\"_attackToSP\"] = moves.apply(lambda row: powerToSP(row), axis=1)"
   ]
  },
  {
   "cell_type": "code",
   "execution_count": 8,
   "metadata": {},
   "outputs": [
    {
     "data": {
      "text/plain": [
       "0    21.666667\n",
       "1    14.166667\n",
       "2    11.666667\n",
       "3    18.333333\n",
       "4    12.500000\n",
       "Name: _attackToSP, dtype: float64"
      ]
     },
     "execution_count": 8,
     "metadata": {},
     "output_type": "execute_result"
    }
   ],
   "source": [
    "moves[\"_attackToSP\"].head()"
   ]
  },
  {
   "cell_type": "code",
   "execution_count": 9,
   "metadata": {},
   "outputs": [],
   "source": [
    "#Filter results. We do not need data having 0 or Infinite\n",
    "tempMoves = moves[(moves[\"_attackToSP\"] > 0) & (moves[\"_attackToSP\"]!=float(\"inf\"))].sort_values(by=[\"_attackToSP\"], ascending=False)"
   ]
  },
  {
   "cell_type": "code",
   "execution_count": 10,
   "metadata": {},
   "outputs": [
    {
     "data": {
      "text/html": [
       "<div>\n",
       "<style scoped>\n",
       "    .dataframe tbody tr th:only-of-type {\n",
       "        vertical-align: middle;\n",
       "    }\n",
       "\n",
       "    .dataframe tbody tr th {\n",
       "        vertical-align: top;\n",
       "    }\n",
       "\n",
       "    .dataframe thead th {\n",
       "        text-align: right;\n",
       "    }\n",
       "</style>\n",
       "<table border=\"1\" class=\"dataframe\">\n",
       "  <thead>\n",
       "    <tr style=\"text-align: right;\">\n",
       "      <th></th>\n",
       "      <th>Move</th>\n",
       "      <th>Attack to SP</th>\n",
       "    </tr>\n",
       "  </thead>\n",
       "  <tbody>\n",
       "    <tr>\n",
       "      <th>80</th>\n",
       "      <td>Heavy Strike I</td>\n",
       "      <td>23.333333</td>\n",
       "    </tr>\n",
       "    <tr>\n",
       "      <th>0</th>\n",
       "      <td>Wolkenapalm I</td>\n",
       "      <td>21.666667</td>\n",
       "    </tr>\n",
       "    <tr>\n",
       "      <th>10</th>\n",
       "      <td>Ice Archery I</td>\n",
       "      <td>21.666667</td>\n",
       "    </tr>\n",
       "    <tr>\n",
       "      <th>40</th>\n",
       "      <td>Comet Hammer I</td>\n",
       "      <td>21.666667</td>\n",
       "    </tr>\n",
       "    <tr>\n",
       "      <th>50</th>\n",
       "      <td>Wind Claw I</td>\n",
       "      <td>21.666667</td>\n",
       "    </tr>\n",
       "    <tr>\n",
       "      <th>30</th>\n",
       "      <td>Nanomachine Break I</td>\n",
       "      <td>21.666667</td>\n",
       "    </tr>\n",
       "    <tr>\n",
       "      <th>60</th>\n",
       "      <td>Saint Knuckle I</td>\n",
       "      <td>21.666667</td>\n",
       "    </tr>\n",
       "    <tr>\n",
       "      <th>70</th>\n",
       "      <td>Destruction Cannon I</td>\n",
       "      <td>21.666667</td>\n",
       "    </tr>\n",
       "    <tr>\n",
       "      <th>20</th>\n",
       "      <td>Crescent Leaf I</td>\n",
       "      <td>21.666667</td>\n",
       "    </tr>\n",
       "    <tr>\n",
       "      <th>83</th>\n",
       "      <td>Power Energy I</td>\n",
       "      <td>20.000000</td>\n",
       "    </tr>\n",
       "    <tr>\n",
       "      <th>211</th>\n",
       "      <td>Hyper Cannon</td>\n",
       "      <td>20.000000</td>\n",
       "    </tr>\n",
       "    <tr>\n",
       "      <th>73</th>\n",
       "      <td>Nightmare I</td>\n",
       "      <td>18.333333</td>\n",
       "    </tr>\n",
       "    <tr>\n",
       "      <th>53</th>\n",
       "      <td>Sonic Void I</td>\n",
       "      <td>18.333333</td>\n",
       "    </tr>\n",
       "    <tr>\n",
       "      <th>63</th>\n",
       "      <td>Holy Light I</td>\n",
       "      <td>18.333333</td>\n",
       "    </tr>\n",
       "    <tr>\n",
       "      <th>23</th>\n",
       "      <td>Gaia Element I</td>\n",
       "      <td>18.333333</td>\n",
       "    </tr>\n",
       "    <tr>\n",
       "      <th>3</th>\n",
       "      <td>Burst Flame I</td>\n",
       "      <td>18.333333</td>\n",
       "    </tr>\n",
       "    <tr>\n",
       "      <th>33</th>\n",
       "      <td>Heaven's Thunder I</td>\n",
       "      <td>18.333333</td>\n",
       "    </tr>\n",
       "    <tr>\n",
       "      <th>43</th>\n",
       "      <td>Grand Rock I</td>\n",
       "      <td>18.333333</td>\n",
       "    </tr>\n",
       "    <tr>\n",
       "      <th>13</th>\n",
       "      <td>Hydro Water I</td>\n",
       "      <td>18.333333</td>\n",
       "    </tr>\n",
       "    <tr>\n",
       "      <th>272</th>\n",
       "      <td>Atomic Blaster</td>\n",
       "      <td>16.666667</td>\n",
       "    </tr>\n",
       "    <tr>\n",
       "      <th>89</th>\n",
       "      <td>Physical Drain</td>\n",
       "      <td>16.666667</td>\n",
       "    </tr>\n",
       "    <tr>\n",
       "      <th>81</th>\n",
       "      <td>Heavy Strike II</td>\n",
       "      <td>15.000000</td>\n",
       "    </tr>\n",
       "    <tr>\n",
       "      <th>138</th>\n",
       "      <td>Bubbles</td>\n",
       "      <td>15.000000</td>\n",
       "    </tr>\n",
       "    <tr>\n",
       "      <th>168</th>\n",
       "      <td>Veemon Headbutt</td>\n",
       "      <td>15.000000</td>\n",
       "    </tr>\n",
       "    <tr>\n",
       "      <th>151</th>\n",
       "      <td>Crazy Giggle</td>\n",
       "      <td>15.000000</td>\n",
       "    </tr>\n",
       "    <tr>\n",
       "      <th>41</th>\n",
       "      <td>Comet Hammer II</td>\n",
       "      <td>14.166667</td>\n",
       "    </tr>\n",
       "    <tr>\n",
       "      <th>31</th>\n",
       "      <td>Nanomachine Break II</td>\n",
       "      <td>14.166667</td>\n",
       "    </tr>\n",
       "    <tr>\n",
       "      <th>51</th>\n",
       "      <td>Wind Claw II</td>\n",
       "      <td>14.166667</td>\n",
       "    </tr>\n",
       "    <tr>\n",
       "      <th>11</th>\n",
       "      <td>Ice Archery II</td>\n",
       "      <td>14.166667</td>\n",
       "    </tr>\n",
       "    <tr>\n",
       "      <th>61</th>\n",
       "      <td>Saint Knuckle II</td>\n",
       "      <td>14.166667</td>\n",
       "    </tr>\n",
       "    <tr>\n",
       "      <th>...</th>\n",
       "      <td>...</td>\n",
       "      <td>...</td>\n",
       "    </tr>\n",
       "    <tr>\n",
       "      <th>224</th>\n",
       "      <td>Kunai Wing</td>\n",
       "      <td>3.000000</td>\n",
       "    </tr>\n",
       "    <tr>\n",
       "      <th>19</th>\n",
       "      <td>Idle Bubble</td>\n",
       "      <td>3.000000</td>\n",
       "    </tr>\n",
       "    <tr>\n",
       "      <th>228</th>\n",
       "      <td>Razor Wind</td>\n",
       "      <td>3.000000</td>\n",
       "    </tr>\n",
       "    <tr>\n",
       "      <th>91</th>\n",
       "      <td>Character Reversal</td>\n",
       "      <td>3.000000</td>\n",
       "    </tr>\n",
       "    <tr>\n",
       "      <th>252</th>\n",
       "      <td>Wind Cutter Sword</td>\n",
       "      <td>2.666667</td>\n",
       "    </tr>\n",
       "    <tr>\n",
       "      <th>259</th>\n",
       "      <td>Death Parade Blaster</td>\n",
       "      <td>2.666667</td>\n",
       "    </tr>\n",
       "    <tr>\n",
       "      <th>279</th>\n",
       "      <td>Trident Revolver</td>\n",
       "      <td>2.666667</td>\n",
       "    </tr>\n",
       "    <tr>\n",
       "      <th>370</th>\n",
       "      <td>Victory Sword</td>\n",
       "      <td>2.600000</td>\n",
       "    </tr>\n",
       "    <tr>\n",
       "      <th>219</th>\n",
       "      <td>Meteor Wing</td>\n",
       "      <td>2.500000</td>\n",
       "    </tr>\n",
       "    <tr>\n",
       "      <th>313</th>\n",
       "      <td>Burst Shot</td>\n",
       "      <td>2.500000</td>\n",
       "    </tr>\n",
       "    <tr>\n",
       "      <th>229</th>\n",
       "      <td>Turbo Stinger</td>\n",
       "      <td>2.500000</td>\n",
       "    </tr>\n",
       "    <tr>\n",
       "      <th>284</th>\n",
       "      <td>Darkness Wave</td>\n",
       "      <td>2.333333</td>\n",
       "    </tr>\n",
       "    <tr>\n",
       "      <th>344</th>\n",
       "      <td>Ice Wolf Claw</td>\n",
       "      <td>2.250000</td>\n",
       "    </tr>\n",
       "    <tr>\n",
       "      <th>379</th>\n",
       "      <td>Dragon's Roar</td>\n",
       "      <td>2.200000</td>\n",
       "    </tr>\n",
       "    <tr>\n",
       "      <th>234</th>\n",
       "      <td>Spider Shooter</td>\n",
       "      <td>2.000000</td>\n",
       "    </tr>\n",
       "    <tr>\n",
       "      <th>372</th>\n",
       "      <td>Dragonic Impact</td>\n",
       "      <td>2.000000</td>\n",
       "    </tr>\n",
       "    <tr>\n",
       "      <th>223</th>\n",
       "      <td>Super Stinky Jet</td>\n",
       "      <td>2.000000</td>\n",
       "    </tr>\n",
       "    <tr>\n",
       "      <th>326</th>\n",
       "      <td>Trump Sword</td>\n",
       "      <td>1.750000</td>\n",
       "    </tr>\n",
       "    <tr>\n",
       "      <th>328</th>\n",
       "      <td>Platinum Junk</td>\n",
       "      <td>1.500000</td>\n",
       "    </tr>\n",
       "    <tr>\n",
       "      <th>386</th>\n",
       "      <td>Plasma Shoot</td>\n",
       "      <td>1.400000</td>\n",
       "    </tr>\n",
       "    <tr>\n",
       "      <th>300</th>\n",
       "      <td>Quake!Blast!Fire!Father!</td>\n",
       "      <td>1.400000</td>\n",
       "    </tr>\n",
       "    <tr>\n",
       "      <th>350</th>\n",
       "      <td>Spiral Masquerade</td>\n",
       "      <td>1.200000</td>\n",
       "    </tr>\n",
       "    <tr>\n",
       "      <th>288</th>\n",
       "      <td>Blade of the Dragon King</td>\n",
       "      <td>1.200000</td>\n",
       "    </tr>\n",
       "    <tr>\n",
       "      <th>308</th>\n",
       "      <td>Judgement of the Blade</td>\n",
       "      <td>1.200000</td>\n",
       "    </tr>\n",
       "    <tr>\n",
       "      <th>304</th>\n",
       "      <td>Waltz's End</td>\n",
       "      <td>1.200000</td>\n",
       "    </tr>\n",
       "    <tr>\n",
       "      <th>359</th>\n",
       "      <td>Mourning Dance</td>\n",
       "      <td>1.000000</td>\n",
       "    </tr>\n",
       "    <tr>\n",
       "      <th>202</th>\n",
       "      <td>Golden Rush</td>\n",
       "      <td>1.000000</td>\n",
       "    </tr>\n",
       "    <tr>\n",
       "      <th>314</th>\n",
       "      <td>Mach Stinger V</td>\n",
       "      <td>1.000000</td>\n",
       "    </tr>\n",
       "    <tr>\n",
       "      <th>333</th>\n",
       "      <td>Double Impact</td>\n",
       "      <td>0.800000</td>\n",
       "    </tr>\n",
       "    <tr>\n",
       "      <th>312</th>\n",
       "      <td>Strike of the Seven Stars</td>\n",
       "      <td>0.750000</td>\n",
       "    </tr>\n",
       "  </tbody>\n",
       "</table>\n",
       "<p>301 rows × 2 columns</p>\n",
       "</div>"
      ],
      "text/plain": [
       "                          Move  Attack to SP\n",
       "80              Heavy Strike I     23.333333\n",
       "0                Wolkenapalm I     21.666667\n",
       "10               Ice Archery I     21.666667\n",
       "40              Comet Hammer I     21.666667\n",
       "50                 Wind Claw I     21.666667\n",
       "30         Nanomachine Break I     21.666667\n",
       "60             Saint Knuckle I     21.666667\n",
       "70        Destruction Cannon I     21.666667\n",
       "20             Crescent Leaf I     21.666667\n",
       "83              Power Energy I     20.000000\n",
       "211               Hyper Cannon     20.000000\n",
       "73                 Nightmare I     18.333333\n",
       "53                Sonic Void I     18.333333\n",
       "63                Holy Light I     18.333333\n",
       "23              Gaia Element I     18.333333\n",
       "3                Burst Flame I     18.333333\n",
       "33          Heaven's Thunder I     18.333333\n",
       "43                Grand Rock I     18.333333\n",
       "13               Hydro Water I     18.333333\n",
       "272             Atomic Blaster     16.666667\n",
       "89              Physical Drain     16.666667\n",
       "81             Heavy Strike II     15.000000\n",
       "138                    Bubbles     15.000000\n",
       "168            Veemon Headbutt     15.000000\n",
       "151               Crazy Giggle     15.000000\n",
       "41             Comet Hammer II     14.166667\n",
       "31        Nanomachine Break II     14.166667\n",
       "51                Wind Claw II     14.166667\n",
       "11              Ice Archery II     14.166667\n",
       "61            Saint Knuckle II     14.166667\n",
       "..                         ...           ...\n",
       "224                 Kunai Wing      3.000000\n",
       "19                 Idle Bubble      3.000000\n",
       "228                 Razor Wind      3.000000\n",
       "91          Character Reversal      3.000000\n",
       "252          Wind Cutter Sword      2.666667\n",
       "259       Death Parade Blaster      2.666667\n",
       "279           Trident Revolver      2.666667\n",
       "370              Victory Sword      2.600000\n",
       "219                Meteor Wing      2.500000\n",
       "313                 Burst Shot      2.500000\n",
       "229              Turbo Stinger      2.500000\n",
       "284              Darkness Wave      2.333333\n",
       "344              Ice Wolf Claw      2.250000\n",
       "379              Dragon's Roar      2.200000\n",
       "234             Spider Shooter      2.000000\n",
       "372            Dragonic Impact      2.000000\n",
       "223           Super Stinky Jet      2.000000\n",
       "326                Trump Sword      1.750000\n",
       "328              Platinum Junk      1.500000\n",
       "386               Plasma Shoot      1.400000\n",
       "300   Quake!Blast!Fire!Father!      1.400000\n",
       "350          Spiral Masquerade      1.200000\n",
       "288   Blade of the Dragon King      1.200000\n",
       "308     Judgement of the Blade      1.200000\n",
       "304                Waltz's End      1.200000\n",
       "359             Mourning Dance      1.000000\n",
       "202                Golden Rush      1.000000\n",
       "314             Mach Stinger V      1.000000\n",
       "333              Double Impact      0.800000\n",
       "312  Strike of the Seven Stars      0.750000\n",
       "\n",
       "[301 rows x 2 columns]"
      ]
     },
     "execution_count": 10,
     "metadata": {},
     "output_type": "execute_result"
    }
   ],
   "source": [
    "#Creating a new feature for our resulting dataset\n",
    "ch1Result = pd.DataFrame(data={\"Move\": tempMoves.Move, \"Attack to SP\":tempMoves._attackToSP})\n",
    "ch1Result"
   ]
  },
  {
   "cell_type": "markdown",
   "metadata": {},
   "source": [
    "## Which team of 3 digimon have the highest attack? Defense?"
   ]
  },
  {
   "cell_type": "code",
   "execution_count": 11,
   "metadata": {},
   "outputs": [
    {
     "data": {
      "text/plain": [
       "Index(['Number', 'Digimon', 'Stage', 'Type', 'Attribute', 'Memory',\n",
       "       'Equip Slots', 'Lv 50 HP', 'Lv50 SP', 'Lv50 Atk', 'Lv50 Def',\n",
       "       'Lv50 Int', 'Lv50 Spd'],\n",
       "      dtype='object')"
      ]
     },
     "execution_count": 11,
     "metadata": {},
     "output_type": "execute_result"
    }
   ],
   "source": [
    "digimons.columns"
   ]
  },
  {
   "cell_type": "code",
   "execution_count": 12,
   "metadata": {},
   "outputs": [],
   "source": [
    "ch2Result = pd.DataFrame(data={'Digimon':digimons.Digimon, \n",
    "                               'Attack':digimons[\"Lv50 Atk\"], \n",
    "                               'Defence':digimons[\"Lv50 Def\"]})"
   ]
  },
  {
   "cell_type": "markdown",
   "metadata": {},
   "source": [
    "-> Top 3 Attackers"
   ]
  },
  {
   "cell_type": "code",
   "execution_count": 13,
   "metadata": {},
   "outputs": [
    {
     "data": {
      "text/html": [
       "<div>\n",
       "<style scoped>\n",
       "    .dataframe tbody tr th:only-of-type {\n",
       "        vertical-align: middle;\n",
       "    }\n",
       "\n",
       "    .dataframe tbody tr th {\n",
       "        vertical-align: top;\n",
       "    }\n",
       "\n",
       "    .dataframe thead th {\n",
       "        text-align: right;\n",
       "    }\n",
       "</style>\n",
       "<table border=\"1\" class=\"dataframe\">\n",
       "  <thead>\n",
       "    <tr style=\"text-align: right;\">\n",
       "      <th></th>\n",
       "      <th>Digimon</th>\n",
       "      <th>Attack</th>\n",
       "    </tr>\n",
       "  </thead>\n",
       "  <tbody>\n",
       "    <tr>\n",
       "      <th>243</th>\n",
       "      <td>Chaosmon</td>\n",
       "      <td>318</td>\n",
       "    </tr>\n",
       "    <tr>\n",
       "      <th>235</th>\n",
       "      <td>Belphemon RM</td>\n",
       "      <td>247</td>\n",
       "    </tr>\n",
       "    <tr>\n",
       "      <th>195</th>\n",
       "      <td>Diaboromon</td>\n",
       "      <td>243</td>\n",
       "    </tr>\n",
       "  </tbody>\n",
       "</table>\n",
       "</div>"
      ],
      "text/plain": [
       "          Digimon  Attack\n",
       "243      Chaosmon     318\n",
       "235  Belphemon RM     247\n",
       "195    Diaboromon     243"
      ]
     },
     "execution_count": 13,
     "metadata": {},
     "output_type": "execute_result"
    }
   ],
   "source": [
    "ch2Result.sort_values(by=['Attack'], ascending=False).iloc[:3, [0,1]]"
   ]
  },
  {
   "cell_type": "markdown",
   "metadata": {},
   "source": [
    "-> Top 3 Defenders"
   ]
  },
  {
   "cell_type": "code",
   "execution_count": 14,
   "metadata": {},
   "outputs": [
    {
     "data": {
      "text/html": [
       "<div>\n",
       "<style scoped>\n",
       "    .dataframe tbody tr th:only-of-type {\n",
       "        vertical-align: middle;\n",
       "    }\n",
       "\n",
       "    .dataframe tbody tr th {\n",
       "        vertical-align: top;\n",
       "    }\n",
       "\n",
       "    .dataframe thead th {\n",
       "        text-align: right;\n",
       "    }\n",
       "</style>\n",
       "<table border=\"1\" class=\"dataframe\">\n",
       "  <thead>\n",
       "    <tr style=\"text-align: right;\">\n",
       "      <th></th>\n",
       "      <th>Digimon</th>\n",
       "      <th>Defence</th>\n",
       "    </tr>\n",
       "  </thead>\n",
       "  <tbody>\n",
       "    <tr>\n",
       "      <th>181</th>\n",
       "      <td>GroundLocomon</td>\n",
       "      <td>213</td>\n",
       "    </tr>\n",
       "    <tr>\n",
       "      <th>182</th>\n",
       "      <td>Craniamon</td>\n",
       "      <td>208</td>\n",
       "    </tr>\n",
       "    <tr>\n",
       "      <th>238</th>\n",
       "      <td>Magnamon</td>\n",
       "      <td>208</td>\n",
       "    </tr>\n",
       "  </tbody>\n",
       "</table>\n",
       "</div>"
      ],
      "text/plain": [
       "           Digimon  Defence\n",
       "181  GroundLocomon      213\n",
       "182      Craniamon      208\n",
       "238       Magnamon      208"
      ]
     },
     "execution_count": 14,
     "metadata": {},
     "output_type": "execute_result"
    }
   ],
   "source": [
    "ch2Result.sort_values(by=['Defence'], ascending=False).iloc[:3, [0,2]]"
   ]
  },
  {
   "cell_type": "markdown",
   "metadata": {},
   "source": [
    "-> Top 3 Attacker and Defender"
   ]
  },
  {
   "cell_type": "code",
   "execution_count": 15,
   "metadata": {},
   "outputs": [
    {
     "data": {
      "text/html": [
       "<div>\n",
       "<style scoped>\n",
       "    .dataframe tbody tr th:only-of-type {\n",
       "        vertical-align: middle;\n",
       "    }\n",
       "\n",
       "    .dataframe tbody tr th {\n",
       "        vertical-align: top;\n",
       "    }\n",
       "\n",
       "    .dataframe thead th {\n",
       "        text-align: right;\n",
       "    }\n",
       "</style>\n",
       "<table border=\"1\" class=\"dataframe\">\n",
       "  <thead>\n",
       "    <tr style=\"text-align: right;\">\n",
       "      <th></th>\n",
       "      <th>Digimon</th>\n",
       "      <th>Attack</th>\n",
       "      <th>Defence</th>\n",
       "      <th>Total</th>\n",
       "    </tr>\n",
       "  </thead>\n",
       "  <tbody>\n",
       "    <tr>\n",
       "      <th>235</th>\n",
       "      <td>Belphemon RM</td>\n",
       "      <td>247</td>\n",
       "      <td>168</td>\n",
       "      <td>415</td>\n",
       "    </tr>\n",
       "    <tr>\n",
       "      <th>243</th>\n",
       "      <td>Chaosmon</td>\n",
       "      <td>318</td>\n",
       "      <td>94</td>\n",
       "      <td>412</td>\n",
       "    </tr>\n",
       "    <tr>\n",
       "      <th>203</th>\n",
       "      <td>BanchoLeomon</td>\n",
       "      <td>193</td>\n",
       "      <td>188</td>\n",
       "      <td>381</td>\n",
       "    </tr>\n",
       "  </tbody>\n",
       "</table>\n",
       "</div>"
      ],
      "text/plain": [
       "          Digimon  Attack  Defence  Total\n",
       "235  Belphemon RM     247      168    415\n",
       "243      Chaosmon     318       94    412\n",
       "203  BanchoLeomon     193      188    381"
      ]
     },
     "execution_count": 15,
     "metadata": {},
     "output_type": "execute_result"
    }
   ],
   "source": [
    "ch2Result[\"Total\"] = ch2Result.apply(lambda row : row.Attack+row.Defence, axis=1)\n",
    "ch2Result.sort_values(by=['Total'], ascending=False).iloc[:3, :]"
   ]
  },
  {
   "cell_type": "markdown",
   "metadata": {},
   "source": [
    "## What’s the tradeoff between HP and SP"
   ]
  },
  {
   "cell_type": "code",
   "execution_count": 16,
   "metadata": {},
   "outputs": [
    {
     "data": {
      "text/html": [
       "<div>\n",
       "<style scoped>\n",
       "    .dataframe tbody tr th:only-of-type {\n",
       "        vertical-align: middle;\n",
       "    }\n",
       "\n",
       "    .dataframe tbody tr th {\n",
       "        vertical-align: top;\n",
       "    }\n",
       "\n",
       "    .dataframe thead th {\n",
       "        text-align: right;\n",
       "    }\n",
       "</style>\n",
       "<table border=\"1\" class=\"dataframe\">\n",
       "  <thead>\n",
       "    <tr style=\"text-align: right;\">\n",
       "      <th></th>\n",
       "      <th>HP</th>\n",
       "      <th>SP</th>\n",
       "    </tr>\n",
       "  </thead>\n",
       "  <tbody>\n",
       "    <tr>\n",
       "      <th>0</th>\n",
       "      <td>590</td>\n",
       "      <td>77</td>\n",
       "    </tr>\n",
       "    <tr>\n",
       "      <th>1</th>\n",
       "      <td>950</td>\n",
       "      <td>62</td>\n",
       "    </tr>\n",
       "    <tr>\n",
       "      <th>2</th>\n",
       "      <td>870</td>\n",
       "      <td>50</td>\n",
       "    </tr>\n",
       "    <tr>\n",
       "      <th>3</th>\n",
       "      <td>690</td>\n",
       "      <td>68</td>\n",
       "    </tr>\n",
       "    <tr>\n",
       "      <th>4</th>\n",
       "      <td>540</td>\n",
       "      <td>98</td>\n",
       "    </tr>\n",
       "  </tbody>\n",
       "</table>\n",
       "</div>"
      ],
      "text/plain": [
       "    HP  SP\n",
       "0  590  77\n",
       "1  950  62\n",
       "2  870  50\n",
       "3  690  68\n",
       "4  540  98"
      ]
     },
     "execution_count": 16,
     "metadata": {},
     "output_type": "execute_result"
    }
   ],
   "source": [
    "ch3Result = pd.DataFrame(data={\"HP\": digimons[\"Lv 50 HP\"], \"SP\": digimons[\"Lv50 SP\"]})\n",
    "ch3Result.head()"
   ]
  },
  {
   "cell_type": "code",
   "execution_count": 17,
   "metadata": {},
   "outputs": [
    {
     "name": "stdout",
     "output_type": "stream",
     "text": [
      "Trade-off between HP and SP: 0.070957\n"
     ]
    }
   ],
   "source": [
    "print(\"Trade-off between HP and SP: %f\"%ch3Result[\"HP\"].corr(ch3Result[\"SP\"])) "
   ]
  },
  {
   "cell_type": "code",
   "execution_count": 18,
   "metadata": {},
   "outputs": [
    {
     "data": {
      "image/png": "[encoded data removed]",
      "text/plain": [
       "<Figure size 432x288 with 1 Axes>"
      ]
     },
     "metadata": {
      "needs_background": "light"
     },
     "output_type": "display_data"
    }
   ],
   "source": [
    "plt.scatter(ch3Result.SP, ch3Result.HP)\n",
    "plt.ylabel(\"SP\")\n",
    "plt.xlabel(\"HP\")\n",
    "plt.title(\"Correlation between HP and SP\")\n",
    "plt.show()"
   ]
  },
  {
   "cell_type": "markdown",
   "metadata": {},
   "source": [
    "## Are some types over- or under-represented?"
   ]
  },
  {
   "cell_type": "code",
   "execution_count": 19,
   "metadata": {},
   "outputs": [
    {
     "data": {
      "text/plain": [
       "Index(['Number', 'Digimon', 'Stage', 'Type', 'Attribute', 'Memory',\n",
       "       'Equip Slots', 'Lv 50 HP', 'Lv50 SP', 'Lv50 Atk', 'Lv50 Def',\n",
       "       'Lv50 Int', 'Lv50 Spd'],\n",
       "      dtype='object')"
      ]
     },
     "execution_count": 19,
     "metadata": {},
     "output_type": "execute_result"
    }
   ],
   "source": [
    "digimons.columns"
   ]
  },
  {
   "cell_type": "code",
   "execution_count": 20,
   "metadata": {},
   "outputs": [
    {
     "data": {
      "text/html": [
       "<div>\n",
       "<style scoped>\n",
       "    .dataframe tbody tr th:only-of-type {\n",
       "        vertical-align: middle;\n",
       "    }\n",
       "\n",
       "    .dataframe tbody tr th {\n",
       "        vertical-align: top;\n",
       "    }\n",
       "\n",
       "    .dataframe thead th {\n",
       "        text-align: right;\n",
       "    }\n",
       "</style>\n",
       "<table border=\"1\" class=\"dataframe\">\n",
       "  <thead>\n",
       "    <tr style=\"text-align: right;\">\n",
       "      <th></th>\n",
       "      <th>Number</th>\n",
       "    </tr>\n",
       "    <tr>\n",
       "      <th>Type</th>\n",
       "      <th></th>\n",
       "    </tr>\n",
       "  </thead>\n",
       "  <tbody>\n",
       "    <tr>\n",
       "      <th>Data</th>\n",
       "      <td>60</td>\n",
       "    </tr>\n",
       "    <tr>\n",
       "      <th>Free</th>\n",
       "      <td>37</td>\n",
       "    </tr>\n",
       "    <tr>\n",
       "      <th>Vaccine</th>\n",
       "      <td>70</td>\n",
       "    </tr>\n",
       "    <tr>\n",
       "      <th>Virus</th>\n",
       "      <td>82</td>\n",
       "    </tr>\n",
       "  </tbody>\n",
       "</table>\n",
       "</div>"
      ],
      "text/plain": [
       "         Number\n",
       "Type           \n",
       "Data         60\n",
       "Free         37\n",
       "Vaccine      70\n",
       "Virus        82"
      ]
     },
     "execution_count": 20,
     "metadata": {},
     "output_type": "execute_result"
    }
   ],
   "source": [
    "ch4Result = digimons.groupby(by=[\"Type\"]).agg('count').iloc[:,:1]\n",
    "ch4Result.head()"
   ]
  },
  {
   "cell_type": "code",
   "execution_count": 21,
   "metadata": {},
   "outputs": [
    {
     "name": "stdout",
     "output_type": "stream",
     "text": [
      "24.09638613462448\n",
      "14.859437942504883\n",
      "28.11245024204254\n",
      "32.931727170944214\n"
     ]
    },
    {
     "data": {
      "image/png": "[encoded data removed]",
      "text/plain": [
       "<Figure size 432x288 with 1 Axes>"
      ]
     },
     "metadata": {},
     "output_type": "display_data"
    }
   ],
   "source": [
    "def participation(percent, allvals):\n",
    "    print(percent)\n",
    "    absolute = int(percent/100.*np.sum(allvals))\n",
    "    return \"{:.1f}%\\n({:d})\".format(percent, absolute)\n",
    "\n",
    "plt.pie(ch4Result.Number, autopct=lambda percent: participation(percent, ch4Result.Number), labels=ch4Result.index)\n",
    "plt.show()"
   ]
  },
  {
   "cell_type": "markdown",
   "metadata": {},
   "source": [
    "From the above Pie chat we can deduce that \"Free\" type occurs very less, while \"Virus\" type occurs the most. And hence we can deduce that \"Free\" is under-represented and \"Virus\" is over-represented in the Dataset."
   ]
  },
  {
   "cell_type": "markdown",
   "metadata": {},
   "source": [
    "# Performing chi-squared test on 2 catagorical attributes"
   ]
  },
  {
   "cell_type": "code",
   "execution_count": 22,
   "metadata": {},
   "outputs": [
    {
     "data": {
      "text/plain": [
       "<matplotlib.axes._subplots.AxesSubplot at 0x7f3e40a1ecf8>"
      ]
     },
     "execution_count": 22,
     "metadata": {},
     "output_type": "execute_result"
    },
    {
     "data": {
      "image/png": "[encoded data removed]",
      "text/plain": [
       "<Figure size 432x288 with 1 Axes>"
      ]
     },
     "metadata": {
      "needs_background": "light"
     },
     "output_type": "display_data"
    }
   ],
   "source": [
    "types = digimons.Type.value_counts()\n",
    "types = types.sort_values()\n",
    "sns.countplot(digimons.Type, saturation=1, order=types.index)"
   ]
  },
  {
   "cell_type": "code",
   "execution_count": 23,
   "metadata": {},
   "outputs": [
    {
     "data": {
      "text/plain": [
       "<matplotlib.axes._subplots.AxesSubplot at 0x7f3e42b087b8>"
      ]
     },
     "execution_count": 23,
     "metadata": {},
     "output_type": "execute_result"
    },
    {
     "data": {
      "image/png": "[encoded data removed]",
      "text/plain": [
       "<Figure size 432x288 with 1 Axes>"
      ]
     },
     "metadata": {
      "needs_background": "light"
     },
     "output_type": "display_data"
    }
   ],
   "source": [
    "attributes = digimons.Attribute.value_counts()\n",
    "attributes = attributes.sort_values()\n",
    "sns.countplot(digimons.Attribute, order=attributes.index)"
   ]
  },
  {
   "cell_type": "code",
   "execution_count": 24,
   "metadata": {},
   "outputs": [],
   "source": [
    "def chisqaure_test(df, col1, col2):\n",
    "    groupSize = digimons.groupby([col1, col2]).size()\n",
    "    groupSum = groupSize.unstack(col1)\n",
    "    #Filling null values to 0 to prevent code to not throw any exceptions\n",
    "    groupSum = groupSum.fillna(0)\n",
    "    return chi2_contingency(groupSum)"
   ]
  },
  {
   "cell_type": "markdown",
   "metadata": {},
   "source": [
    "Assuming significance level as 5%, meaning I am assuming Confidence level of 95% to check if 2 categorical values have any relationship? "
   ]
  },
  {
   "cell_type": "code",
   "execution_count": 33,
   "metadata": {},
   "outputs": [
    {
     "data": {
      "text/plain": [
       "(88.03033202268932,\n",
       " 3.046235014769864e-09,\n",
       " 24,\n",
       " array([[ 8.91566265,  5.49799197, 10.40160643, 12.18473896],\n",
       "        [ 5.78313253,  3.56626506,  6.74698795,  7.90361446],\n",
       "        [ 6.02409639,  3.71485944,  7.02811245,  8.23293173],\n",
       "        [ 7.95180723,  4.90361446,  9.27710843, 10.86746988],\n",
       "        [ 6.98795181,  4.30923695,  8.15261044,  9.5502008 ],\n",
       "        [ 6.74698795,  4.16064257,  7.87148594,  9.22088353],\n",
       "        [ 6.02409639,  3.71485944,  7.02811245,  8.23293173],\n",
       "        [ 5.78313253,  3.56626506,  6.74698795,  7.90361446],\n",
       "        [ 5.78313253,  3.56626506,  6.74698795,  7.90361446]]))"
      ]
     },
     "execution_count": 33,
     "metadata": {},
     "output_type": "execute_result"
    }
   ],
   "source": [
    "chisqaure_test(digimons, 'Type', 'Attribute')"
   ]
  },
  {
   "cell_type": "markdown",
   "metadata": {},
   "source": [
    "**Clearly my p-value < significance value. Which means that I have enough evidence to proove that Type and Attribute share some relationship b/w them.**"
   ]
  },
  {
   "cell_type": "code",
   "execution_count": 26,
   "metadata": {},
   "outputs": [
    {
     "data": {
      "text/plain": [
       "(74.09777624477839,\n",
       " 0.05306703774738181,\n",
       " 56,\n",
       " array([[ 0.44578313,  0.28915663,  0.30120482,  0.39759036,  0.34939759,\n",
       "          0.3373494 ,  0.30120482,  0.28915663,  0.28915663],\n",
       "        [ 0.74297189,  0.48192771,  0.50200803,  0.6626506 ,  0.58232932,\n",
       "          0.562249  ,  0.50200803,  0.48192771,  0.48192771],\n",
       "        [ 8.02409639,  5.20481928,  5.42168675,  7.15662651,  6.28915663,\n",
       "          6.07228916,  5.42168675,  5.20481928,  5.20481928],\n",
       "        [ 1.63453815,  1.06024096,  1.10441767,  1.45783133,  1.2811245 ,\n",
       "          1.23694779,  1.10441767,  1.06024096,  1.06024096],\n",
       "        [10.99598394,  7.13253012,  7.42971888,  9.80722892,  8.6184739 ,\n",
       "          8.32128514,  7.42971888,  7.13253012,  7.13253012],\n",
       "        [ 5.64658635,  3.6626506 ,  3.81526104,  5.03614458,  4.42570281,\n",
       "          4.27309237,  3.81526104,  3.6626506 ,  3.6626506 ],\n",
       "        [ 8.6184739 ,  5.59036145,  5.82329317,  7.68674699,  6.75502008,\n",
       "          6.52208835,  5.82329317,  5.59036145,  5.59036145],\n",
       "        [ 0.89156627,  0.57831325,  0.60240964,  0.79518072,  0.69879518,\n",
       "          0.6746988 ,  0.60240964,  0.57831325,  0.57831325]]))"
      ]
     },
     "execution_count": 26,
     "metadata": {},
     "output_type": "execute_result"
    }
   ],
   "source": [
    "chisqaure_test(digimons, 'Attribute', 'Stage')"
   ]
  },
  {
   "cell_type": "markdown",
   "metadata": {},
   "source": [
    "**Here my p-value > significance value, meaning I do not have enough evidence to say that Attribute and Stage is related.**"
   ]
  },
  {
   "cell_type": "markdown",
   "metadata": {},
   "source": [
    "### Lets check the correlation between these varaibles to check our Null hypothesis"
   ]
  },
  {
   "cell_type": "code",
   "execution_count": 35,
   "metadata": {},
   "outputs": [
    {
     "data": {
      "text/plain": [
       "-0.24541050052504065"
      ]
     },
     "execution_count": 35,
     "metadata": {},
     "output_type": "execute_result"
    }
   ],
   "source": [
    "(digimons['Type'].astype('category').cat.codes).corr((digimons['Attribute'].astype('category').cat.codes))"
   ]
  },
  {
   "cell_type": "markdown",
   "metadata": {},
   "source": [
    "Correlation between Type and Attribute is Negative, meaning decreasing one variable tends to increase another"
   ]
  },
  {
   "cell_type": "code",
   "execution_count": 36,
   "metadata": {},
   "outputs": [
    {
     "data": {
      "text/plain": [
       "-0.03789234680698387"
      ]
     },
     "execution_count": 36,
     "metadata": {},
     "output_type": "execute_result"
    }
   ],
   "source": [
    "(digimons['Stage'].astype('category').cat.codes).corr((digimons['Attribute'].astype('category').cat.codes))"
   ]
  },
  {
   "cell_type": "markdown",
   "metadata": {},
   "source": [
    "Correlation between Stage and Attribute is almost 0, meaning theres no relation between the 2"
   ]
  },
  {
   "cell_type": "markdown",
   "metadata": {},
   "source": [
    "### Finished"
   ]
  }
 ],
 "metadata": {
  "kernelspec": {
   "display_name": "Python 3",
   "language": "python",
   "name": "python3"
  },
  "language_info": {
   "codemirror_mode": {
    "name": "ipython",
    "version": 3
   },
   "file_extension": ".py",
   "mimetype": "text/x-python",
   "name": "python",
   "nbconvert_exporter": "python",
   "pygments_lexer": "ipython3",
   "version": "3.6.8"
  }
 },
 "nbformat": 4,
 "nbformat_minor": 2
}
